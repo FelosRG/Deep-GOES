{
 "cells": [
  {
   "cell_type": "code",
   "execution_count": 2,
   "id": "a7731497",
   "metadata": {
    "scrolled": true
   },
   "outputs": [
    {
     "name": "stdout",
     "output_type": "stream",
     "text": [
      "strides=(32, 8)\n"
     ]
    },
    {
     "data": {
      "text/plain": [
       "array([[ 0,  1,  2,  3],\n",
       "       [ 4,  5,  6,  7],\n",
       "       [ 8,  9, 10, 11],\n",
       "       [12, 13, 14, 15]])"
      ]
     },
     "execution_count": 2,
     "metadata": {},
     "output_type": "execute_result"
    }
   ],
   "source": [
    "import numpy as np\n",
    "from numpy.lib.stride_tricks import as_strided\n",
    "\n",
    "array = np.arange(16).reshape((4,4))\n",
    "print(f\"strides={array.strides}\")\n",
    "array"
   ]
  },
  {
   "cell_type": "markdown",
   "id": "4c825c17",
   "metadata": {},
   "source": [
    "### Calculamos strides manualmente "
   ]
  },
  {
   "cell_type": "code",
   "execution_count": 55,
   "id": "e43919cd",
   "metadata": {
    "scrolled": false
   },
   "outputs": [
    {
     "name": "stdout",
     "output_type": "stream",
     "text": [
      "strides=(64, 16, 32, 8)\n"
     ]
    },
    {
     "data": {
      "text/plain": [
       "array([[[[ 0,  1],\n",
       "         [ 4,  5]],\n",
       "\n",
       "        [[ 2,  3],\n",
       "         [ 6,  7]]],\n",
       "\n",
       "\n",
       "       [[[ 8,  9],\n",
       "         [12, 13]],\n",
       "\n",
       "        [[10, 11],\n",
       "         [14, 15]]]])"
      ]
     },
     "execution_count": 55,
     "metadata": {},
     "output_type": "execute_result"
    }
   ],
   "source": [
    "itemsize = array.itemsize\n",
    "window   = as_strided(\n",
    "    array,shape=(2,2,2,2),\n",
    "    strides=(itemsize*8,itemsize*2,itemsize*4,itemsize*1)\n",
    ")\n",
    "\n",
    "print(f\"strides={window.strides}\")\n",
    "window"
   ]
  },
  {
   "cell_type": "markdown",
   "id": "0f1c3767",
   "metadata": {},
   "source": [
    "### Obtenemos forma de batch"
   ]
  },
  {
   "cell_type": "code",
   "execution_count": 63,
   "id": "5223a896",
   "metadata": {
    "scrolled": false
   },
   "outputs": [
    {
     "name": "stdout",
     "output_type": "stream",
     "text": [
      "strides=(32, 16, 8)\n"
     ]
    },
    {
     "data": {
      "text/plain": [
       "array([[[ 0,  1],\n",
       "        [ 2,  3]],\n",
       "\n",
       "       [[ 4,  5],\n",
       "        [ 6,  7]],\n",
       "\n",
       "       [[ 8,  9],\n",
       "        [10, 11]],\n",
       "\n",
       "       [[12, 13],\n",
       "        [14, 15]]])"
      ]
     },
     "execution_count": 63,
     "metadata": {},
     "output_type": "execute_result"
    }
   ],
   "source": [
    "window_batch = as_strided(window,shape=(4,2,2),strides=(32,16,8))\n",
    "print(f\"strides={window_batch.strides}\")\n",
    "window_batch"
   ]
  },
  {
   "cell_type": "markdown",
   "id": "05aad7d5",
   "metadata": {},
   "source": [
    "### Regresamos a original (ventana)"
   ]
  },
  {
   "cell_type": "code",
   "execution_count": 48,
   "id": "8ad238f6",
   "metadata": {
    "scrolled": false
   },
   "outputs": [
    {
     "name": "stdout",
     "output_type": "stream",
     "text": [
      "strides=(64, 16, 32, 8)\n"
     ]
    },
    {
     "data": {
      "text/plain": [
       "array([[[[ 0,  1],\n",
       "         [ 4,  5]],\n",
       "\n",
       "        [[ 2,  3],\n",
       "         [ 6,  7]]],\n",
       "\n",
       "\n",
       "       [[[ 8,  9],\n",
       "         [12, 13]],\n",
       "\n",
       "        [[10, 11],\n",
       "         [14, 15]]]])"
      ]
     },
     "execution_count": 48,
     "metadata": {},
     "output_type": "execute_result"
    }
   ],
   "source": [
    "window_restaurado = as_strided(\n",
    "    window_batch,shape=(2,2,2,2),\n",
    "    strides=(itemsize*8,itemsize*2,itemsize*4,itemsize*1)\n",
    ")\n",
    "print(f\"strides={window_restaurado.strides}\")\n",
    "window_restaurado"
   ]
  },
  {
   "cell_type": "markdown",
   "id": "ace96469",
   "metadata": {},
   "source": [
    "### Restauramos al array original"
   ]
  },
  {
   "cell_type": "code",
   "execution_count": 57,
   "id": "d749230d",
   "metadata": {},
   "outputs": [
    {
     "data": {
      "text/plain": [
       "array([[ 0,  1,  2,  3],\n",
       "       [ 4,  5,  6,  7],\n",
       "       [ 8,  9, 10, 11],\n",
       "       [12, 13, 14, 15]])"
      ]
     },
     "execution_count": 57,
     "metadata": {},
     "output_type": "execute_result"
    }
   ],
   "source": [
    "as_strided(window_restaurado,shape=array.shape,strides=array.strides)"
   ]
  },
  {
   "cell_type": "code",
   "execution_count": 57,
   "id": "c3e0f8cb",
   "metadata": {},
   "outputs": [],
   "source": [
    "def num_ventanas_axis(shape_axis,ventana,solapamiento):\n",
    "    a = shape_axis - 2*solapamiento\n",
    "    b = ventana - 2*solapamiento\n",
    "    if a%b != 0:\n",
    "        raise ValueError(f\"El tamaño de los axis debe de ser multiplo con {b}\")\n",
    "    return a//b\n",
    "\n",
    "def stride(array,ventana=3,solapamiento=0):\n",
    "    shape   = array.shape\n",
    "    itemsize = array.itemsize\n",
    "    # Calculamos número de ventanas\n",
    "    shape_out0 = num_ventanas_axis(shape[0],ventana,solapamiento)\n",
    "    shape_out1 = num_ventanas_axis(shape[1],ventana,solapamiento)\n",
    "    shape_out  = (shape_out0,shape_out1,ventana,ventana)\n",
    "    # Calculamos los strides.\n",
    "    stride0 = itemsize*(ventana-2*solapamiento)*shape[1]\n",
    "    stride1 = itemsize*(ventana-2*solapamiento)\n",
    "    stride2 = itemsize*shape[1]\n",
    "    stride3 = itemsize*1\n",
    "    strides_out = (stride0,stride1,stride2,stride3)\n",
    "    return as_strided(array,shape_out,strides_out),shape\n",
    "\n",
    "\n",
    "def reshape2batch(array):\n",
    "    \"\"\"\n",
    "    Input window (x_array,y_array,ventana,ventana)\n",
    "    \n",
    "    Returna:\n",
    "        * array en forma de batch\n",
    "        * shape del array en forma ventana\n",
    "        * strides del array en forma ventana\n",
    "    \"\"\"\n",
    "    shape = array.shape\n",
    "    num_batches = shape[0]*shape[1]\n",
    "    ventana = shape[2]\n",
    "    array_batch = array.reshape(num_batches,ventana,ventana)\n",
    "    return array_batch,shape\n",
    "\n",
    "def reshape2window(array,shape):\n",
    "    \"\"\"\n",
    "    Input batch (num_batch,ventana,ventana)\n",
    "    \"\"\"\n",
    "    return array.reshape(shape)\n",
    "\n",
    "    \n",
    "def reverse_stride(array,solapamiento=0):\n",
    "    \"\"\"\n",
    "    Input:\n",
    "        * shape window\n",
    "    \"\"\"\n",
    "    # Caracterizamos el array de entrada\n",
    "    shape = array.shape\n",
    "    x_windows = shape[0]\n",
    "    y_windows = shape[1]\n",
    "    ventana   = shape[2] - solapamiento*2 \n",
    "    \n",
    "    # Creamos el lienzo en blanco para pintar\n",
    "    array_output = np.zeros((ventana*x_windows,ventana*y_windows))\n",
    "    \n",
    "    # Pintamos\n",
    "    for i in range(x_windows):\n",
    "        for j in range(y_windows):\n",
    "            if solapamiento == 0:\n",
    "                array_output[i*ventana:(i+1)*ventana,j*ventana:(j+1)*ventana] = array[i,j,:,:]\n",
    "            else:\n",
    "                array_output[i*ventana:(i+1)*ventana,j*ventana:(j+1)*ventana] = array[i,j,solapamiento:-solapamiento,solapamiento:-solapamiento]\n",
    "    return array_output"
   ]
  },
  {
   "cell_type": "code",
   "execution_count": 45,
   "id": "94cb6f47",
   "metadata": {},
   "outputs": [
    {
     "name": "stdout",
     "output_type": "stream",
     "text": [
      "[[  0   1   2   3   4   5   6   7   8   9  10  11]\n",
      " [ 12  13  14  15  16  17  18  19  20  21  22  23]\n",
      " [ 24  25  26  27  28  29  30  31  32  33  34  35]\n",
      " [ 36  37  38  39  40  41  42  43  44  45  46  47]\n",
      " [ 48  49  50  51  52  53  54  55  56  57  58  59]\n",
      " [ 60  61  62  63  64  65  66  67  68  69  70  71]\n",
      " [ 72  73  74  75  76  77  78  79  80  81  82  83]\n",
      " [ 84  85  86  87  88  89  90  91  92  93  94  95]\n",
      " [ 96  97  98  99 100 101 102 103 104 105 106 107]]\n",
      "--------------\n",
      "[[[[  0   1   2]\n",
      "   [ 12  13  14]\n",
      "   [ 24  25  26]]\n",
      "\n",
      "  [[  1   2   3]\n",
      "   [ 13  14  15]\n",
      "   [ 25  26  27]]\n",
      "\n",
      "  [[  2   3   4]\n",
      "   [ 14  15  16]\n",
      "   [ 26  27  28]]\n",
      "\n",
      "  [[  3   4   5]\n",
      "   [ 15  16  17]\n",
      "   [ 27  28  29]]\n",
      "\n",
      "  [[  4   5   6]\n",
      "   [ 16  17  18]\n",
      "   [ 28  29  30]]\n",
      "\n",
      "  [[  5   6   7]\n",
      "   [ 17  18  19]\n",
      "   [ 29  30  31]]\n",
      "\n",
      "  [[  6   7   8]\n",
      "   [ 18  19  20]\n",
      "   [ 30  31  32]]\n",
      "\n",
      "  [[  7   8   9]\n",
      "   [ 19  20  21]\n",
      "   [ 31  32  33]]\n",
      "\n",
      "  [[  8   9  10]\n",
      "   [ 20  21  22]\n",
      "   [ 32  33  34]]\n",
      "\n",
      "  [[  9  10  11]\n",
      "   [ 21  22  23]\n",
      "   [ 33  34  35]]]\n",
      "\n",
      "\n",
      " [[[ 12  13  14]\n",
      "   [ 24  25  26]\n",
      "   [ 36  37  38]]\n",
      "\n",
      "  [[ 13  14  15]\n",
      "   [ 25  26  27]\n",
      "   [ 37  38  39]]\n",
      "\n",
      "  [[ 14  15  16]\n",
      "   [ 26  27  28]\n",
      "   [ 38  39  40]]\n",
      "\n",
      "  [[ 15  16  17]\n",
      "   [ 27  28  29]\n",
      "   [ 39  40  41]]\n",
      "\n",
      "  [[ 16  17  18]\n",
      "   [ 28  29  30]\n",
      "   [ 40  41  42]]\n",
      "\n",
      "  [[ 17  18  19]\n",
      "   [ 29  30  31]\n",
      "   [ 41  42  43]]\n",
      "\n",
      "  [[ 18  19  20]\n",
      "   [ 30  31  32]\n",
      "   [ 42  43  44]]\n",
      "\n",
      "  [[ 19  20  21]\n",
      "   [ 31  32  33]\n",
      "   [ 43  44  45]]\n",
      "\n",
      "  [[ 20  21  22]\n",
      "   [ 32  33  34]\n",
      "   [ 44  45  46]]\n",
      "\n",
      "  [[ 21  22  23]\n",
      "   [ 33  34  35]\n",
      "   [ 45  46  47]]]\n",
      "\n",
      "\n",
      " [[[ 24  25  26]\n",
      "   [ 36  37  38]\n",
      "   [ 48  49  50]]\n",
      "\n",
      "  [[ 25  26  27]\n",
      "   [ 37  38  39]\n",
      "   [ 49  50  51]]\n",
      "\n",
      "  [[ 26  27  28]\n",
      "   [ 38  39  40]\n",
      "   [ 50  51  52]]\n",
      "\n",
      "  [[ 27  28  29]\n",
      "   [ 39  40  41]\n",
      "   [ 51  52  53]]\n",
      "\n",
      "  [[ 28  29  30]\n",
      "   [ 40  41  42]\n",
      "   [ 52  53  54]]\n",
      "\n",
      "  [[ 29  30  31]\n",
      "   [ 41  42  43]\n",
      "   [ 53  54  55]]\n",
      "\n",
      "  [[ 30  31  32]\n",
      "   [ 42  43  44]\n",
      "   [ 54  55  56]]\n",
      "\n",
      "  [[ 31  32  33]\n",
      "   [ 43  44  45]\n",
      "   [ 55  56  57]]\n",
      "\n",
      "  [[ 32  33  34]\n",
      "   [ 44  45  46]\n",
      "   [ 56  57  58]]\n",
      "\n",
      "  [[ 33  34  35]\n",
      "   [ 45  46  47]\n",
      "   [ 57  58  59]]]\n",
      "\n",
      "\n",
      " [[[ 36  37  38]\n",
      "   [ 48  49  50]\n",
      "   [ 60  61  62]]\n",
      "\n",
      "  [[ 37  38  39]\n",
      "   [ 49  50  51]\n",
      "   [ 61  62  63]]\n",
      "\n",
      "  [[ 38  39  40]\n",
      "   [ 50  51  52]\n",
      "   [ 62  63  64]]\n",
      "\n",
      "  [[ 39  40  41]\n",
      "   [ 51  52  53]\n",
      "   [ 63  64  65]]\n",
      "\n",
      "  [[ 40  41  42]\n",
      "   [ 52  53  54]\n",
      "   [ 64  65  66]]\n",
      "\n",
      "  [[ 41  42  43]\n",
      "   [ 53  54  55]\n",
      "   [ 65  66  67]]\n",
      "\n",
      "  [[ 42  43  44]\n",
      "   [ 54  55  56]\n",
      "   [ 66  67  68]]\n",
      "\n",
      "  [[ 43  44  45]\n",
      "   [ 55  56  57]\n",
      "   [ 67  68  69]]\n",
      "\n",
      "  [[ 44  45  46]\n",
      "   [ 56  57  58]\n",
      "   [ 68  69  70]]\n",
      "\n",
      "  [[ 45  46  47]\n",
      "   [ 57  58  59]\n",
      "   [ 69  70  71]]]\n",
      "\n",
      "\n",
      " [[[ 48  49  50]\n",
      "   [ 60  61  62]\n",
      "   [ 72  73  74]]\n",
      "\n",
      "  [[ 49  50  51]\n",
      "   [ 61  62  63]\n",
      "   [ 73  74  75]]\n",
      "\n",
      "  [[ 50  51  52]\n",
      "   [ 62  63  64]\n",
      "   [ 74  75  76]]\n",
      "\n",
      "  [[ 51  52  53]\n",
      "   [ 63  64  65]\n",
      "   [ 75  76  77]]\n",
      "\n",
      "  [[ 52  53  54]\n",
      "   [ 64  65  66]\n",
      "   [ 76  77  78]]\n",
      "\n",
      "  [[ 53  54  55]\n",
      "   [ 65  66  67]\n",
      "   [ 77  78  79]]\n",
      "\n",
      "  [[ 54  55  56]\n",
      "   [ 66  67  68]\n",
      "   [ 78  79  80]]\n",
      "\n",
      "  [[ 55  56  57]\n",
      "   [ 67  68  69]\n",
      "   [ 79  80  81]]\n",
      "\n",
      "  [[ 56  57  58]\n",
      "   [ 68  69  70]\n",
      "   [ 80  81  82]]\n",
      "\n",
      "  [[ 57  58  59]\n",
      "   [ 69  70  71]\n",
      "   [ 81  82  83]]]\n",
      "\n",
      "\n",
      " [[[ 60  61  62]\n",
      "   [ 72  73  74]\n",
      "   [ 84  85  86]]\n",
      "\n",
      "  [[ 61  62  63]\n",
      "   [ 73  74  75]\n",
      "   [ 85  86  87]]\n",
      "\n",
      "  [[ 62  63  64]\n",
      "   [ 74  75  76]\n",
      "   [ 86  87  88]]\n",
      "\n",
      "  [[ 63  64  65]\n",
      "   [ 75  76  77]\n",
      "   [ 87  88  89]]\n",
      "\n",
      "  [[ 64  65  66]\n",
      "   [ 76  77  78]\n",
      "   [ 88  89  90]]\n",
      "\n",
      "  [[ 65  66  67]\n",
      "   [ 77  78  79]\n",
      "   [ 89  90  91]]\n",
      "\n",
      "  [[ 66  67  68]\n",
      "   [ 78  79  80]\n",
      "   [ 90  91  92]]\n",
      "\n",
      "  [[ 67  68  69]\n",
      "   [ 79  80  81]\n",
      "   [ 91  92  93]]\n",
      "\n",
      "  [[ 68  69  70]\n",
      "   [ 80  81  82]\n",
      "   [ 92  93  94]]\n",
      "\n",
      "  [[ 69  70  71]\n",
      "   [ 81  82  83]\n",
      "   [ 93  94  95]]]\n",
      "\n",
      "\n",
      " [[[ 72  73  74]\n",
      "   [ 84  85  86]\n",
      "   [ 96  97  98]]\n",
      "\n",
      "  [[ 73  74  75]\n",
      "   [ 85  86  87]\n",
      "   [ 97  98  99]]\n",
      "\n",
      "  [[ 74  75  76]\n",
      "   [ 86  87  88]\n",
      "   [ 98  99 100]]\n",
      "\n",
      "  [[ 75  76  77]\n",
      "   [ 87  88  89]\n",
      "   [ 99 100 101]]\n",
      "\n",
      "  [[ 76  77  78]\n",
      "   [ 88  89  90]\n",
      "   [100 101 102]]\n",
      "\n",
      "  [[ 77  78  79]\n",
      "   [ 89  90  91]\n",
      "   [101 102 103]]\n",
      "\n",
      "  [[ 78  79  80]\n",
      "   [ 90  91  92]\n",
      "   [102 103 104]]\n",
      "\n",
      "  [[ 79  80  81]\n",
      "   [ 91  92  93]\n",
      "   [103 104 105]]\n",
      "\n",
      "  [[ 80  81  82]\n",
      "   [ 92  93  94]\n",
      "   [104 105 106]]\n",
      "\n",
      "  [[ 81  82  83]\n",
      "   [ 93  94  95]\n",
      "   [105 106 107]]]]\n"
     ]
    }
   ],
   "source": [
    "array = np.arange(108).reshape((9,12))\n",
    "print(array)\n",
    "window , shape = stride(array,ventana=3,solapamiento=1)\n",
    "print(\"--------------\")\n",
    "print(window)\n"
   ]
  },
  {
   "cell_type": "code",
   "execution_count": 61,
   "id": "7d9c17cb",
   "metadata": {
    "scrolled": false
   },
   "outputs": [
    {
     "name": "stdout",
     "output_type": "stream",
     "text": [
      "[[  0   1   2   3   4   5   6   7   8]\n",
      " [ 12  13  14  15  16  17  18  19  20]\n",
      " [ 24  25  26  27  28  29  30  31  32]\n",
      " [ 36  37  38  39  40  41  42  43  44]\n",
      " [ 48  49  50  51  52  53  54  55  56]\n",
      " [ 60  61  62  63  64  65  66  67  68]\n",
      " [ 72  73  74  75  76  77  78  79  80]\n",
      " [ 84  85  86  87  88  89  90  91  92]\n",
      " [ 96  97  98  99 100 101 102 103 104]]\n",
      "--------------\n",
      "[[13. 14. 15. 16. 17. 18. 19.]\n",
      " [25. 26. 27. 28. 29. 30. 31.]\n",
      " [37. 38. 39. 40. 41. 42. 43.]\n",
      " [49. 50. 51. 52. 53. 54. 55.]\n",
      " [61. 62. 63. 64. 65. 66. 67.]\n",
      " [73. 74. 75. 76. 77. 78. 79.]\n",
      " [85. 86. 87. 88. 89. 90. 91.]]\n"
     ]
    }
   ],
   "source": [
    "array = np.arange(108).reshape((9,12))\n",
    "array = np.copy(array[:,:9])\n",
    "print(array)\n",
    "# Obtenemos ventana\n",
    "window , shape  = stride(array,ventana=3,solapamiento=1)\n",
    "# Obtenemos forma batch\n",
    "window_batch , shape_window = reshape2batch(window)\n",
    "#window_batch = window.reshape((4,2,2))\n",
    "# Revertimos a forma ventana\n",
    "window = reshape2window(window_batch,shape_window)\n",
    "#window = window_batch.reshape((2,2,2,2))\n",
    "# Revertimos array\n",
    "rev_array = reverse_stride(window,solapamiento=1)\n",
    "\n",
    "print(\"--------------\")\n",
    "print(rev_array)"
   ]
  },
  {
   "cell_type": "code",
   "execution_count": 56,
   "id": "b54e252e",
   "metadata": {},
   "outputs": [
    {
     "data": {
      "text/plain": [
       "array([0, 1, 2, 3, 4, 5, 6, 7, 8, 9])"
      ]
     },
     "execution_count": 56,
     "metadata": {},
     "output_type": "execute_result"
    }
   ],
   "source": [
    "a = np.arange(10)\n",
    "    \n",
    "a[0:]"
   ]
  }
 ],
 "metadata": {
  "kernelspec": {
   "display_name": "Python 3 (ipykernel)",
   "language": "python",
   "name": "python3"
  },
  "language_info": {
   "codemirror_mode": {
    "name": "ipython",
    "version": 3
   },
   "file_extension": ".py",
   "mimetype": "text/x-python",
   "name": "python",
   "nbconvert_exporter": "python",
   "pygments_lexer": "ipython3",
   "version": "3.8.12"
  }
 },
 "nbformat": 4,
 "nbformat_minor": 5
}
