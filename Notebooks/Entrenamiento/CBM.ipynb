{
 "cells": [
  {
   "cell_type": "markdown",
   "id": "1eae61a4",
   "metadata": {},
   "source": [
    "# Entrenamiento: Modelo Cloud Binary Mask\n",
    "Notebook para el entrenamiento del modelo \"Cloud Binary Mask\", cuyo trabajo es determinar cuando los pixeles representan nube.\n",
    "\n",
    "Adrián Ramírez <br>\n",
    "Contanto: felos@ciencias.unam.mx"
   ]
  },
  {
   "cell_type": "markdown",
   "id": "1b2c82a7",
   "metadata": {},
   "source": [
    "### Preparando entorno"
   ]
  },
  {
   "cell_type": "code",
   "execution_count": 1,
   "id": "f968d33f",
   "metadata": {},
   "outputs": [],
   "source": [
    "import os\n",
    "import sys\n",
    "import h5py\n",
    "import numpy as np\n",
    "import tensorflow as tf\n",
    "import matplotlib.pyplot as plt\n",
    "\n",
    "DIR_SCRIPT  = os.getcwd()\n",
    "DIR_REPO    = \"/\".join(DIR_SCRIPT.split(\"/\")[:-2])\n",
    "DIR_LIB     = f\"{DIR_REPO}/lib\"\n",
    "DIR_MODELOS = f\"{DIR_REPO}/Modelos\" \n",
    "PATH_DATASET = f\"{DIR_REPO}/gendata/Datasets/dataset.h5\" \n",
    "PATH_DIC_NORM = None\n",
    "\n",
    "sys.path.append(DIR_LIB)\n",
    "sys.path.append(DIR_MODELOS)\n",
    "import datasets\n",
    "import modelos\n",
    "\n",
    "RESOLUCION = 29"
   ]
  },
  {
   "cell_type": "markdown",
   "id": "2567ccc6",
   "metadata": {},
   "source": [
    "### Preparando los datos"
   ]
  },
  {
   "cell_type": "code",
   "execution_count": 2,
   "id": "a9041fcf",
   "metadata": {},
   "outputs": [
    {
     "name": "stdout",
     "output_type": "stream",
     "text": [
      "X.shape: (14400, 29, 29, 5)\n",
      "y.shape: (14400, 29, 29, 2)\n",
      "\n",
      "X_train.shape: (11520, 29, 29, 5)\n",
      "X_test.shape : (2880, 29, 29, 5)\n",
      "y_train.shape: (11520, 29, 29, 2)\n",
      "y_test.shape : (2880, 29, 29, 2)\n"
     ]
    }
   ],
   "source": [
    "lista_keys_X = [\"4\",\"6\",\"13\",\"14\",\"Altura\"]\n",
    "lista_keys_y = [\"CM\"]\n",
    "\n",
    "num_canales_input = len(lista_keys_X)\n",
    "\n",
    "# Vaciamos el dataset en un diccionario.\n",
    "dataset = {}\n",
    "with h5py.File(PATH_DATASET,\"r\") as file:\n",
    "    for key in file.keys():\n",
    "        dataset[key] = file[key][:]\n",
    "\n",
    "# Normalizamos los datos.\n",
    "# POR AHORA NO HAY UN DICCIONARIO DE NORMALIZACIÓN UNIVERSAL...\n",
    "# QUEDA PENDIENTE ESO. \n",
    "dataset,dic_norm = datasets.normalizarDataset(dataset)\n",
    "\n",
    "# Obtenemos el número de archivos del que provienen los otros datasets.\n",
    "num_archivos = dataset[lista_keys_X[0]].shape[0]\n",
    "\n",
    "# Preparamos los datos de altura\n",
    "if \"Altura\" in lista_keys_X:\n",
    "    dataset[\"Altura\"] = np.tile(dataset[\"Altura\"],(num_archivos,1,1,1))\n",
    "\n",
    "# Preparamos los datos de entrada.\n",
    "X = []\n",
    "for key in lista_keys_X: X.append(dataset[key])\n",
    "X = np.stack(X,axis=4)\n",
    "X = np.reshape(X,(-1,RESOLUCION,RESOLUCION,num_canales_input))\n",
    "print(f\"X.shape: {X.shape}\")\n",
    "\n",
    "# Preparamos los datos de salida\n",
    "y = dataset[\"CM\"]\n",
    "y = np.reshape(y,(-1,RESOLUCION,RESOLUCION))\n",
    "mask_nubes = y == 1\n",
    "mask_clear = y == 0\n",
    "y = np.stack([mask_nubes,mask_clear],axis=3)\n",
    "print(f\"y.shape: {y.shape}\")\n",
    "\n",
    "# Test 1: Separación correcta de los mask de segmentación.\n",
    "suma_correcta = RESOLUCION*RESOLUCION\n",
    "test = np.sum(y,axis=(1,2,3))\n",
    "test = test != suma_correcta\n",
    "test = np.sum(test)\n",
    "assert test == 0, \"Test1: No pasado.\"\n",
    "\n",
    "# Randomizamos los datos\n",
    "num_datos = len(X)\n",
    "index_randomizados = np.arange(num_datos)\n",
    "np.random.shuffle(index_randomizados)\n",
    "X = X[index_randomizados]\n",
    "y = y[index_randomizados]\n",
    "\n",
    "# Separamos en train y test tomando el 20% de los datos.\n",
    "index_separacion = np.floor(num_datos*0.2).astype(int)\n",
    "X_train = X[index_separacion:]\n",
    "X_test  = X[:index_separacion]\n",
    "y_train = y[index_separacion:]\n",
    "y_test  = y[:index_separacion]\n",
    "\n",
    "print(\"\")\n",
    "print(f\"X_train.shape: {X_train.shape}\")\n",
    "print(f\"X_test.shape : {X_test.shape}\")\n",
    "print(f\"y_train.shape: {y_train.shape}\")\n",
    "print(f\"y_test.shape : {y_test.shape}\")"
   ]
  },
  {
   "cell_type": "markdown",
   "id": "43ecb362",
   "metadata": {},
   "source": [
    "### Importamos modelo"
   ]
  },
  {
   "cell_type": "code",
   "execution_count": 3,
   "id": "f6c72b8b",
   "metadata": {
    "scrolled": false
   },
   "outputs": [
    {
     "name": "stdout",
     "output_type": "stream",
     "text": [
      "Model: \"model\"\n",
      "_________________________________________________________________\n",
      " Layer (type)                Output Shape              Param #   \n",
      "=================================================================\n",
      " input_1 (InputLayer)        [(None, 29, 29, 5)]       0         \n",
      "                                                                 \n",
      " dense (Dense)               (None, 29, 29, 5)         30        \n",
      "                                                                 \n",
      " dense_1 (Dense)             (None, 29, 29, 5)         30        \n",
      "                                                                 \n",
      " dense_2 (Dense)             (None, 29, 29, 5)         30        \n",
      "                                                                 \n",
      " batch_normalization (BatchN  (None, 29, 29, 5)        20        \n",
      " ormalization)                                                   \n",
      "                                                                 \n",
      " conv2d (Conv2D)             (None, 29, 29, 15)        690       \n",
      "                                                                 \n",
      " batch_normalization_1 (Batc  (None, 29, 29, 15)       60        \n",
      " hNormalization)                                                 \n",
      "                                                                 \n",
      " conv2d_1 (Conv2D)           (None, 29, 29, 15)        2040      \n",
      "                                                                 \n",
      " batch_normalization_2 (Batc  (None, 29, 29, 15)       60        \n",
      " hNormalization)                                                 \n",
      "                                                                 \n",
      " conv2d_2 (Conv2D)           (None, 29, 29, 2)         272       \n",
      "                                                                 \n",
      "=================================================================\n",
      "Total params: 3,232\n",
      "Trainable params: 3,162\n",
      "Non-trainable params: 70\n",
      "_________________________________________________________________\n"
     ]
    },
    {
     "name": "stderr",
     "output_type": "stream",
     "text": [
      "2022-07-27 09:44:53.956163: E tensorflow/stream_executor/cuda/cuda_driver.cc:271] failed call to cuInit: CUDA_ERROR_NO_DEVICE: no CUDA-capable device is detected\n",
      "2022-07-27 09:44:53.956249: I tensorflow/stream_executor/cuda/cuda_diagnostics.cc:156] kernel driver does not appear to be running on this host (Inspiron-7566): /proc/driver/nvidia/version does not exist\n",
      "2022-07-27 09:44:53.957771: I tensorflow/core/platform/cpu_feature_guard.cc:151] This TensorFlow binary is optimized with oneAPI Deep Neural Network Library (oneDNN) to use the following CPU instructions in performance-critical operations:  AVX2 FMA\n",
      "To enable them in other operations, rebuild TensorFlow with the appropriate compiler flags.\n"
     ]
    }
   ],
   "source": [
    "modelo = modelos.Modelo_CBM()\n",
    "modelo.summary()"
   ]
  },
  {
   "cell_type": "markdown",
   "id": "45ff0f51",
   "metadata": {},
   "source": [
    "### Entrenamos modelo"
   ]
  },
  {
   "cell_type": "code",
   "execution_count": 4,
   "id": "6c097ad0",
   "metadata": {
    "scrolled": false
   },
   "outputs": [
    {
     "name": "stdout",
     "output_type": "stream",
     "text": [
      "Epoch 1/20\n",
      "360/360 [==============================] - 16s 40ms/step - loss: 0.3701 - accuracy: 0.8224 - val_loss: 0.6293 - val_accuracy: 0.6468\n",
      "Epoch 2/20\n",
      "360/360 [==============================] - 14s 39ms/step - loss: 0.2211 - accuracy: 0.9089 - val_loss: 0.2502 - val_accuracy: 0.9161\n",
      "Epoch 3/20\n",
      "360/360 [==============================] - 15s 40ms/step - loss: 0.1597 - accuracy: 0.9367 - val_loss: 0.1744 - val_accuracy: 0.9316\n",
      "Epoch 4/20\n",
      "360/360 [==============================] - 14s 39ms/step - loss: 0.1435 - accuracy: 0.9423 - val_loss: 0.6399 - val_accuracy: 0.7898\n",
      "Epoch 5/20\n",
      "360/360 [==============================] - 14s 39ms/step - loss: 0.1350 - accuracy: 0.9452 - val_loss: 0.1325 - val_accuracy: 0.9456\n",
      "Epoch 6/20\n",
      "360/360 [==============================] - 14s 39ms/step - loss: 0.1297 - accuracy: 0.9471 - val_loss: 0.1571 - val_accuracy: 0.9386\n",
      "Epoch 7/20\n",
      "360/360 [==============================] - 14s 39ms/step - loss: 0.1262 - accuracy: 0.9485 - val_loss: 0.2020 - val_accuracy: 0.9293\n",
      "Epoch 8/20\n",
      "360/360 [==============================] - 14s 39ms/step - loss: 0.1240 - accuracy: 0.9492 - val_loss: 0.1626 - val_accuracy: 0.9334\n",
      "Epoch 9/20\n",
      "360/360 [==============================] - 14s 39ms/step - loss: 0.1222 - accuracy: 0.9498 - val_loss: 0.1197 - val_accuracy: 0.9507\n",
      "Epoch 10/20\n",
      "360/360 [==============================] - 14s 40ms/step - loss: 0.1205 - accuracy: 0.9504 - val_loss: 0.2236 - val_accuracy: 0.9230\n",
      "Epoch 11/20\n",
      "360/360 [==============================] - 14s 39ms/step - loss: 0.1194 - accuracy: 0.9508 - val_loss: 0.1538 - val_accuracy: 0.9357\n",
      "Epoch 12/20\n",
      "360/360 [==============================] - 14s 39ms/step - loss: 0.1179 - accuracy: 0.9513 - val_loss: 0.1367 - val_accuracy: 0.9406\n",
      "Epoch 13/20\n",
      "360/360 [==============================] - 14s 39ms/step - loss: 0.1169 - accuracy: 0.9516 - val_loss: 0.1499 - val_accuracy: 0.9359\n",
      "Epoch 14/20\n",
      "360/360 [==============================] - 14s 39ms/step - loss: 0.1162 - accuracy: 0.9519 - val_loss: 0.1415 - val_accuracy: 0.9393\n",
      "Epoch 15/20\n",
      "360/360 [==============================] - 14s 39ms/step - loss: 0.1152 - accuracy: 0.9523 - val_loss: 0.2034 - val_accuracy: 0.9264\n",
      "Epoch 16/20\n",
      "360/360 [==============================] - 14s 39ms/step - loss: 0.1144 - accuracy: 0.9525 - val_loss: 0.1760 - val_accuracy: 0.9320\n",
      "Epoch 17/20\n",
      "360/360 [==============================] - 14s 40ms/step - loss: 0.1137 - accuracy: 0.9528 - val_loss: 0.1246 - val_accuracy: 0.9460\n",
      "Epoch 18/20\n",
      "360/360 [==============================] - 14s 39ms/step - loss: 0.1129 - accuracy: 0.9531 - val_loss: 0.1216 - val_accuracy: 0.9469\n",
      "Epoch 19/20\n",
      "360/360 [==============================] - 14s 40ms/step - loss: 0.1123 - accuracy: 0.9534 - val_loss: 0.2289 - val_accuracy: 0.9195\n",
      "Epoch 20/20\n",
      "360/360 [==============================] - 14s 39ms/step - loss: 0.1119 - accuracy: 0.9535 - val_loss: 0.1179 - val_accuracy: 0.9502\n"
     ]
    },
    {
     "data": {
      "text/plain": [
       "[<matplotlib.lines.Line2D at 0x7f249d768a90>]"
      ]
     },
     "execution_count": 4,
     "metadata": {},
     "output_type": "execute_result"
    },
    {
     "data": {
      "image/png": "[encoded data removed]",
      "text/plain": [
       "<Figure size 432x288 with 1 Axes>"
      ]
     },
     "metadata": {
      "needs_background": "light"
     },
     "output_type": "display_data"
    }
   ],
   "source": [
    "epochs = 20\n",
    "\n",
    "modelo.compile(optimizer=\"rmsprop\", loss=\"categorical_crossentropy\",metrics=['accuracy'])\n",
    "\n",
    "try:\n",
    "    history = modelo.fit(\n",
    "        X_train,\n",
    "        y_train,\n",
    "        epochs=epochs,\n",
    "        validation_data=(X_test,y_test),\n",
    "        shuffle=False,\n",
    "    )\n",
    "except KeyboardInterrupt:\n",
    "    print(\"Entrenamiento interumpido.\")\n",
    "    \n",
    "\n",
    "plt.plot(history.history[\"accuracy\"])"
   ]
  },
  {
   "cell_type": "code",
   "execution_count": 12,
   "id": "5e496dde",
   "metadata": {},
   "outputs": [
    {
     "data": {
      "text/plain": [
       "Text(0.5, 1.0, 'y inferencia round')"
      ]
     },
     "execution_count": 12,
     "metadata": {},
     "output_type": "execute_result"
    },
    {
     "data": {
      "image/png": "[encoded data removed]",
      "text/plain": [
       "<Figure size 432x288 with 3 Axes>"
      ]
     },
     "metadata": {
      "needs_background": "light"
     },
     "output_type": "display_data"
    }
   ],
   "source": [
    "index = 60\n",
    "\n",
    "modelo.train = False\n",
    "x_prueba = X_test[index].reshape((1,RESOLUCION,RESOLUCION,num_canales_input))\n",
    "y_real   = y_test[index,:,:,0].reshape((RESOLUCION,RESOLUCION))\n",
    "y_inferencia= modelo(x_prueba).numpy().reshape((RESOLUCION,RESOLUCION))\n",
    "y_inferencia_round = np.round(y_inferencia)\n",
    "fig,ax = plt.subplots(1,3)\n",
    "ax[0].imshow(y_real,vmin=0,vmax=1)\n",
    "ax[0].set_title(\"y real\")\n",
    "ax[1].imshow(y_inferencia,vmin=0,vmax=1)\n",
    "ax[1].set_title(\"y inferencia\")\n",
    "ax[2].imshow(y_inferencia_round,vmin=0,vmax=1)\n",
    "ax[2].set_title(\"y inferencia round\")"
   ]
  },
  {
   "cell_type": "code",
   "execution_count": null,
   "id": "3e68adcc",
   "metadata": {},
   "outputs": [],
   "source": []
  }
 ],
 "metadata": {
  "kernelspec": {
   "display_name": "Python 3 (ipykernel)",
   "language": "python",
   "name": "python3"
  },
  "language_info": {
   "codemirror_mode": {
    "name": "ipython",
    "version": 3
   },
   "file_extension": ".py",
   "mimetype": "text/x-python",
   "name": "python",
   "nbconvert_exporter": "python",
   "pygments_lexer": "ipython3",
   "version": "3.8.12"
  }
 },
 "nbformat": 4,
 "nbformat_minor": 5
}
