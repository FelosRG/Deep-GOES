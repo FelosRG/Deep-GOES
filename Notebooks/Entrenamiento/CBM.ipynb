{
 "cells": [
  {
   "cell_type": "markdown",
   "id": "1eae61a4",
   "metadata": {},
   "source": [
    "# Entrenamiento: Modelo Cloud Binary Mask\n",
    "Notebook para el entrenamiento del modelo \"Cloud Binary Mask\", cuyo trabajo es determinar cuando los pixeles representan nube.\n",
    "\n",
    "Por hacer: <br>\n",
    "[x] Separar en otro notebook la preparación del dataset.<br>\n",
    "[x] Guardar el diccionario de normalización identificado correctamente.<br>\n",
    "[x] Definir el serializador de hdf5 en el modulo de datasets.<br>\n",
    "[] Generar un abanico de illustraciones.<br>\n",
    "[] Guardar y revisar los pesos.<br>\n",
    "\n",
    "Adrián Ramírez <br>\n",
    "Contanto: felos@ciencias.unam.mx"
   ]
  },
  {
   "cell_type": "markdown",
   "id": "1b2c82a7",
   "metadata": {},
   "source": [
    "### Preparando entorno"
   ]
  },
  {
   "cell_type": "code",
   "execution_count": 5,
   "id": "f968d33f",
   "metadata": {
    "scrolled": true
   },
   "outputs": [
    {
     "name": "stdout",
     "output_type": "stream",
     "text": [
      "Name: /physical_device:GPU:0   Type: GPU\n"
     ]
    }
   ],
   "source": [
    "import os\n",
    "import sys\n",
    "import h5py\n",
    "import numpy as np\n",
    "import tensorflow as tf\n",
    "import matplotlib.pyplot as plt\n",
    "\n",
    "import trainconfig\n",
    "sys.path.append(trainconfig.DIR_LIB)\n",
    "sys.path.append(trainconfig.DIR_MODELOS)\n",
    "import datasets\n",
    "import modelos\n",
    "\n",
    "import importlib\n",
    "importlib.reload(datasets)\n",
    "importlib.reload(modelos)\n",
    "importlib.reload(trainconfig)\n",
    "\n",
    "# Vemos si hay GPUs disponibles, y configuramos para que no use toda la memoria.\n",
    "trainconfig.ver_gpus()"
   ]
  },
  {
   "cell_type": "markdown",
   "id": "c6c9db2f",
   "metadata": {},
   "source": [
    "### Preparamos el dataset\n",
    "**(Ver modulo trainconfig)** <br>\n",
    "\n",
    "Entre las funciones que hace *trainconfig.preparar_dataset()* son: <br>\n",
    "* Randomiza el orden de los datos\n",
    "* Separa en train y test\n",
    "* Normalización (max-min)\n"
   ]
  },
  {
   "cell_type": "code",
   "execution_count": 2,
   "id": "a868bbe5",
   "metadata": {
    "scrolled": true
   },
   "outputs": [
    {
     "name": "stdout",
     "output_type": "stream",
     "text": [
      "Ya existen los datasets preparados,si desea volver a generarlos eliminelos y vulva a ejecutar la función.\n"
     ]
    }
   ],
   "source": [
    "trainconfig.preparar_dataset()"
   ]
  },
  {
   "cell_type": "markdown",
   "id": "d851a90c",
   "metadata": {},
   "source": [
    "### Preparando secuenciador"
   ]
  },
  {
   "cell_type": "code",
   "execution_count": 3,
   "id": "d47f7ed3",
   "metadata": {},
   "outputs": [],
   "source": [
    "def callback_y(y):\n",
    "    \"\"\"\n",
    "    Separa en segmentos al cloud binary mask.\n",
    "    De esta manera trasnformamos el problema\n",
    "    en una tarea de segmentación de imágen.\n",
    "    \"\"\"\n",
    "    resolucion = y.shape[1]\n",
    "    y = np.reshape(y,(-1,resolucion,resolucion))\n",
    "    mask_nubes = y == 1\n",
    "    mask_clear = y == 0\n",
    "    y = np.stack([mask_nubes,mask_clear],axis=3)\n",
    "    return y\n",
    "\n",
    "\n",
    "# ------------------------------------------------------------------\n",
    "\n",
    "lista_keys_X = [\"4\",\"6\",\"14\",\"16\",\"Altura\"]\n",
    "lista_keys_y = [\"CM\"]\n",
    "\n",
    "secuenciador_train = trainconfig.SecuenciaHDF5(\n",
    "    X_keys = lista_keys_X,\n",
    "    Y_keys = lista_keys_y,\n",
    "    batch_size= trainconfig.BATCH_SIZE,\n",
    "    path_dataset= trainconfig.PATH_DATASET_TRAIN,\n",
    "    callback_y = callback_y,\n",
    ")\n",
    "\n",
    "secuenciador_test = trainconfig.SecuenciaHDF5(\n",
    "    X_keys = lista_keys_X,\n",
    "    Y_keys = lista_keys_y,\n",
    "    batch_size= trainconfig.BATCH_SIZE,\n",
    "    path_dataset= trainconfig.PATH_DATASET_TEST,\n",
    "    callback_y = callback_y,\n",
    ")"
   ]
  },
  {
   "cell_type": "markdown",
   "id": "43ecb362",
   "metadata": {},
   "source": [
    "### Importamos modelo"
   ]
  },
  {
   "cell_type": "code",
   "execution_count": 6,
   "id": "f6c72b8b",
   "metadata": {
    "scrolled": false
   },
   "outputs": [
    {
     "name": "stdout",
     "output_type": "stream",
     "text": [
      "Model: \"model\"\n",
      "_________________________________________________________________\n",
      " Layer (type)                Output Shape              Param #   \n",
      "=================================================================\n",
      " input_2 (InputLayer)        [(None, 37, 37, 5)]       0         \n",
      "                                                                 \n",
      " dense_3 (Dense)             (None, 37, 37, 10)        60        \n",
      "                                                                 \n",
      " dense_4 (Dense)             (None, 37, 37, 10)        110       \n",
      "                                                                 \n",
      " dense_5 (Dense)             (None, 37, 37, 10)        110       \n",
      "                                                                 \n",
      " batch_normalization (BatchN  (None, 37, 37, 10)       40        \n",
      " ormalization)                                                   \n",
      "                                                                 \n",
      " conv2d_3 (Conv2D)           (None, 37, 37, 15)        1365      \n",
      "                                                                 \n",
      " batch_normalization_1 (Batc  (None, 37, 37, 15)       60        \n",
      " hNormalization)                                                 \n",
      "                                                                 \n",
      " conv2d_4 (Conv2D)           (None, 37, 37, 15)        2040      \n",
      "                                                                 \n",
      " batch_normalization_2 (Batc  (None, 37, 37, 15)       60        \n",
      " hNormalization)                                                 \n",
      "                                                                 \n",
      " conv2d_5 (Conv2D)           (None, 37, 37, 2)         272       \n",
      "                                                                 \n",
      "=================================================================\n",
      "Total params: 4,117\n",
      "Trainable params: 4,037\n",
      "Non-trainable params: 80\n",
      "_________________________________________________________________\n"
     ]
    }
   ],
   "source": [
    "modelo = modelos.Modelo_CBM()\n",
    "modelo.summary()"
   ]
  },
  {
   "cell_type": "markdown",
   "id": "45ff0f51",
   "metadata": {},
   "source": [
    "### Entrenamos modelo"
   ]
  },
  {
   "cell_type": "code",
   "execution_count": 7,
   "id": "6c097ad0",
   "metadata": {
    "scrolled": false
   },
   "outputs": [
    {
     "name": "stderr",
     "output_type": "stream",
     "text": [
      "2022-08-01 14:04:39.129319: I tensorflow/stream_executor/cuda/cuda_dnn.cc:366] Loaded cuDNN version 8300\n",
      "2022-08-01 14:04:40.916134: I tensorflow/core/platform/default/subprocess.cc:304] Start cannot spawn child process: No such file or directory\n"
     ]
    },
    {
     "name": "stdout",
     "output_type": "stream",
     "text": [
      "Epoch 1/40\n",
      "341/341 - 86s - loss: 0.3089 - accuracy: 0.8684 - val_loss: 0.6471 - val_accuracy: 0.5825 - 86s/epoch - 254ms/step\n",
      "Epoch 2/40\n",
      "341/341 - 125s - loss: 0.2071 - accuracy: 0.9170 - val_loss: 0.1939 - val_accuracy: 0.9207 - 125s/epoch - 367ms/step\n",
      "Epoch 3/40\n",
      "341/341 - 126s - loss: 0.1832 - accuracy: 0.9256 - val_loss: 0.1685 - val_accuracy: 0.9314 - 126s/epoch - 370ms/step\n",
      "Epoch 4/40\n",
      "341/341 - 129s - loss: 0.1705 - accuracy: 0.9303 - val_loss: 0.1587 - val_accuracy: 0.9357 - 129s/epoch - 379ms/step\n",
      "Epoch 5/40\n",
      "341/341 - 167s - loss: 0.1627 - accuracy: 0.9333 - val_loss: 0.1536 - val_accuracy: 0.9383 - 167s/epoch - 490ms/step\n",
      "Epoch 6/40\n",
      "341/341 - 205s - loss: 0.1568 - accuracy: 0.9356 - val_loss: 0.1503 - val_accuracy: 0.9402 - 205s/epoch - 601ms/step\n",
      "Epoch 7/40\n",
      "341/341 - 196s - loss: 0.1522 - accuracy: 0.9374 - val_loss: 0.1464 - val_accuracy: 0.9418 - 196s/epoch - 575ms/step\n",
      "Epoch 8/40\n",
      "341/341 - 228s - loss: 0.1485 - accuracy: 0.9389 - val_loss: 0.1412 - val_accuracy: 0.9432 - 228s/epoch - 670ms/step\n",
      "Epoch 9/40\n",
      "341/341 - 173s - loss: 0.1455 - accuracy: 0.9401 - val_loss: 0.1401 - val_accuracy: 0.9439 - 173s/epoch - 506ms/step\n",
      "Epoch 10/40\n",
      "341/341 - 90s - loss: 0.1429 - accuracy: 0.9410 - val_loss: 0.1377 - val_accuracy: 0.9448 - 90s/epoch - 265ms/step\n",
      "Epoch 11/40\n",
      "341/341 - 90s - loss: 0.1406 - accuracy: 0.9419 - val_loss: 0.1405 - val_accuracy: 0.9441 - 90s/epoch - 263ms/step\n",
      "Epoch 12/40\n",
      "341/341 - 89s - loss: 0.1386 - accuracy: 0.9426 - val_loss: 0.1352 - val_accuracy: 0.9459 - 89s/epoch - 261ms/step\n",
      "Epoch 13/40\n",
      "341/341 - 89s - loss: 0.1368 - accuracy: 0.9433 - val_loss: 0.1367 - val_accuracy: 0.9456 - 89s/epoch - 261ms/step\n",
      "Epoch 14/40\n",
      "341/341 - 89s - loss: 0.1353 - accuracy: 0.9439 - val_loss: 0.1320 - val_accuracy: 0.9469 - 89s/epoch - 260ms/step\n",
      "Epoch 15/40\n",
      "341/341 - 89s - loss: 0.1338 - accuracy: 0.9444 - val_loss: 0.1350 - val_accuracy: 0.9461 - 89s/epoch - 260ms/step\n",
      "Epoch 16/40\n",
      "341/341 - 88s - loss: 0.1325 - accuracy: 0.9450 - val_loss: 0.1290 - val_accuracy: 0.9480 - 88s/epoch - 260ms/step\n",
      "Epoch 17/40\n",
      "341/341 - 88s - loss: 0.1313 - accuracy: 0.9454 - val_loss: 0.1322 - val_accuracy: 0.9471 - 88s/epoch - 259ms/step\n",
      "Epoch 18/40\n",
      "341/341 - 88s - loss: 0.1303 - accuracy: 0.9458 - val_loss: 0.1340 - val_accuracy: 0.9466 - 88s/epoch - 259ms/step\n",
      "Epoch 19/40\n",
      "341/341 - 91s - loss: 0.1294 - accuracy: 0.9462 - val_loss: 0.1259 - val_accuracy: 0.9491 - 91s/epoch - 266ms/step\n",
      "Epoch 20/40\n",
      "341/341 - 88s - loss: 0.1285 - accuracy: 0.9465 - val_loss: 0.1398 - val_accuracy: 0.9444 - 88s/epoch - 259ms/step\n",
      "Epoch 21/40\n",
      "341/341 - 88s - loss: 0.1277 - accuracy: 0.9468 - val_loss: 0.1269 - val_accuracy: 0.9490 - 88s/epoch - 259ms/step\n",
      "Epoch 22/40\n",
      "341/341 - 88s - loss: 0.1269 - accuracy: 0.9471 - val_loss: 0.1324 - val_accuracy: 0.9471 - 88s/epoch - 259ms/step\n",
      "Epoch 23/40\n",
      "341/341 - 88s - loss: 0.1262 - accuracy: 0.9474 - val_loss: 0.1384 - val_accuracy: 0.9448 - 88s/epoch - 258ms/step\n",
      "Epoch 24/40\n",
      "341/341 - 88s - loss: 0.1255 - accuracy: 0.9476 - val_loss: 0.1371 - val_accuracy: 0.9452 - 88s/epoch - 259ms/step\n",
      "Epoch 25/40\n",
      "341/341 - 88s - loss: 0.1249 - accuracy: 0.9479 - val_loss: 0.1225 - val_accuracy: 0.9504 - 88s/epoch - 258ms/step\n",
      "Epoch 26/40\n",
      "341/341 - 88s - loss: 0.1242 - accuracy: 0.9481 - val_loss: 0.1308 - val_accuracy: 0.9476 - 88s/epoch - 258ms/step\n",
      "Epoch 27/40\n",
      "341/341 - 88s - loss: 0.1236 - accuracy: 0.9483 - val_loss: 0.1296 - val_accuracy: 0.9480 - 88s/epoch - 258ms/step\n",
      "Epoch 28/40\n",
      "341/341 - 88s - loss: 0.1231 - accuracy: 0.9485 - val_loss: 0.1521 - val_accuracy: 0.9388 - 88s/epoch - 258ms/step\n",
      "Epoch 29/40\n",
      "341/341 - 88s - loss: 0.1225 - accuracy: 0.9487 - val_loss: 0.1264 - val_accuracy: 0.9491 - 88s/epoch - 257ms/step\n",
      "Epoch 30/40\n",
      "341/341 - 88s - loss: 0.1220 - accuracy: 0.9489 - val_loss: 0.1323 - val_accuracy: 0.9468 - 88s/epoch - 258ms/step\n",
      "Epoch 31/40\n",
      "341/341 - 88s - loss: 0.1215 - accuracy: 0.9491 - val_loss: 0.1334 - val_accuracy: 0.9463 - 88s/epoch - 258ms/step\n",
      "Epoch 32/40\n",
      "341/341 - 88s - loss: 0.1210 - accuracy: 0.9493 - val_loss: 0.1240 - val_accuracy: 0.9499 - 88s/epoch - 258ms/step\n",
      "Epoch 33/40\n",
      "341/341 - 88s - loss: 0.1206 - accuracy: 0.9495 - val_loss: 0.1208 - val_accuracy: 0.9510 - 88s/epoch - 258ms/step\n",
      "Epoch 34/40\n",
      "341/341 - 88s - loss: 0.1201 - accuracy: 0.9497 - val_loss: 0.1213 - val_accuracy: 0.9509 - 88s/epoch - 258ms/step\n",
      "Epoch 35/40\n",
      "341/341 - 88s - loss: 0.1197 - accuracy: 0.9498 - val_loss: 0.1420 - val_accuracy: 0.9426 - 88s/epoch - 259ms/step\n",
      "Epoch 36/40\n",
      "341/341 - 88s - loss: 0.1193 - accuracy: 0.9500 - val_loss: 0.1239 - val_accuracy: 0.9499 - 88s/epoch - 258ms/step\n",
      "Epoch 37/40\n",
      "341/341 - 88s - loss: 0.1190 - accuracy: 0.9501 - val_loss: 0.1210 - val_accuracy: 0.9509 - 88s/epoch - 258ms/step\n",
      "Epoch 38/40\n",
      "341/341 - 88s - loss: 0.1186 - accuracy: 0.9503 - val_loss: 0.1273 - val_accuracy: 0.9485 - 88s/epoch - 258ms/step\n",
      "Epoch 39/40\n",
      "341/341 - 88s - loss: 0.1183 - accuracy: 0.9504 - val_loss: 0.1426 - val_accuracy: 0.9422 - 88s/epoch - 259ms/step\n",
      "Epoch 40/40\n",
      "341/341 - 88s - loss: 0.1180 - accuracy: 0.9505 - val_loss: 0.1179 - val_accuracy: 0.9520 - 88s/epoch - 259ms/step\n"
     ]
    },
    {
     "data": {
      "image/png": "[encoded data removed]",
      "text/plain": [
       "<Figure size 432x288 with 1 Axes>"
      ]
     },
     "metadata": {
      "needs_background": "light"
     },
     "output_type": "display_data"
    }
   ],
   "source": [
    "epochs = 40\n",
    "learning_rate = 0.0001\n",
    "\n",
    "modelo.compile(\n",
    "    optimizer=tf.keras.optimizers.RMSprop(learning_rate=learning_rate),\n",
    "    loss=\"categorical_crossentropy\",\n",
    "    metrics=['accuracy'],\n",
    ")\n",
    "\n",
    "try:\n",
    "    history = modelo.fit(\n",
    "        secuenciador_train,\n",
    "        epochs=epochs,\n",
    "        validation_data=secuenciador_test,\n",
    "        shuffle=False,\n",
    "        verbose=2,\n",
    "    )\n",
    "except KeyboardInterrupt:\n",
    "    print(\"Entrenamiento interumpido.\")\n",
    "    \n",
    "\n",
    "plt.title(\"Entrenamiento CBM\",weight=\"bold\")\n",
    "plt.plot(history.history[\"accuracy\"],label=\"accuracy\")\n",
    "plt.plot(history.history[\"val_accuracy\"],label=\"val accuracy\")\n",
    "plt.xlabel(\"Epoca\")\n",
    "plt.ylabel(\"Accuracy\")\n",
    "plt.grid()"
   ]
  },
  {
   "cell_type": "markdown",
   "id": "a4e2b606",
   "metadata": {},
   "source": [
    "## Inspección visual resultados"
   ]
  },
  {
   "cell_type": "code",
   "execution_count": 16,
   "id": "5e496dde",
   "metadata": {},
   "outputs": [
    {
     "data": {
      "text/plain": [
       "Text(0.5, 1.0, 'y inferencia round')"
      ]
     },
     "execution_count": 16,
     "metadata": {},
     "output_type": "execute_result"
    },
    {
     "data": {
      "image/png": "[encoded data removed]",
      "text/plain": [
       "<Figure size 432x288 with 3 Axes>"
      ]
     },
     "metadata": {
      "needs_background": "light"
     },
     "output_type": "display_data"
    }
   ],
   "source": [
    "batch = 0\n",
    "index = 25\n",
    "modelo.train = False\n",
    "\n",
    "x_prueba , y_real = secuenciador_test.__getitem__(batch)\n",
    "\n",
    "y_real = y_real[index,:,:,0]\n",
    "y_inferencia = modelo(x_prueba).numpy()\n",
    "y_inferencia = y_inferencia[index]\n",
    "y_inferencia_round = np.round(y_inferencia)\n",
    "\n",
    "fig,ax = plt.subplots(1,3)\n",
    "for i in range(3): ax[i].axis(\"off\")\n",
    "\n",
    "ax[0].imshow(y_real,vmin=0,vmax=1)\n",
    "ax[0].set_title(\"y real\")\n",
    "ax[1].imshow(y_inferencia,vmin=0,vmax=1)\n",
    "ax[1].set_title(\"y inferencia\")\n",
    "ax[2].imshow(y_inferencia_round,vmin=0,vmax=1)\n",
    "ax[2].set_title(\"y inferencia round\")"
   ]
  },
  {
   "cell_type": "markdown",
   "id": "166fcd5d",
   "metadata": {},
   "source": [
    "### Guardamos pesos"
   ]
  },
  {
   "cell_type": "code",
   "execution_count": 17,
   "id": "3bc58322",
   "metadata": {},
   "outputs": [
    {
     "name": "stdout",
     "output_type": "stream",
     "text": [
      "Pesos guardados en /home/felos/Repos/Deep-GOES/Modelos/Pesos//CBM/pesos.tf\n"
     ]
    }
   ],
   "source": [
    "modelo.save_weights(f\"{trainconfig.DIR_PESOS}/CBM/pesos.tf\",save_format=\"tf\")\n",
    "print(f\"Pesos guardados en {trainconfig.DIR_PESOS}/CBM/pesos.tf\")"
   ]
  }
 ],
 "metadata": {
  "kernelspec": {
   "display_name": "Python 3 (ipykernel)",
   "language": "python",
   "name": "python3"
  },
  "language_info": {
   "codemirror_mode": {
    "name": "ipython",
    "version": 3
   },
   "file_extension": ".py",
   "mimetype": "text/x-python",
   "name": "python",
   "nbconvert_exporter": "python",
   "pygments_lexer": "ipython3",
   "version": "3.8.12"
  }
 },
 "nbformat": 4,
 "nbformat_minor": 5
}
