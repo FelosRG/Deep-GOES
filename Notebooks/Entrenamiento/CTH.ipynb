{
 "cells": [
  {
   "cell_type": "markdown",
   "id": "1eae61a4",
   "metadata": {},
   "source": [
    "# Entrenamiento: Cloud Top Height\n",
    "\n",
    "Notebook para el entrenamiento del modelo \"Cloud Top Height\", cuyo trabajo es determinar la altura de las nubes en cada pixel.\n",
    "\n",
    "Adrián Ramírez <br>\n",
    "Contanto: felos@ciencias.unam.mx"
   ]
  },
  {
   "cell_type": "markdown",
   "id": "1b2c82a7",
   "metadata": {},
   "source": [
    "### Preparando entorno"
   ]
  },
  {
   "cell_type": "code",
   "execution_count": 1,
   "id": "f968d33f",
   "metadata": {
    "scrolled": true
   },
   "outputs": [
    {
     "name": "stdout",
     "output_type": "stream",
     "text": [
      "Name: /physical_device:GPU:0   Type: GPU\n"
     ]
    },
    {
     "name": "stderr",
     "output_type": "stream",
     "text": [
      "2022-07-30 07:37:05.386219: I tensorflow/stream_executor/cuda/cuda_gpu_executor.cc:939] successful NUMA node read from SysFS had negative value (-1), but there must be at least one NUMA node, so returning NUMA node zero\n",
      "2022-07-30 07:37:05.422788: I tensorflow/stream_executor/cuda/cuda_gpu_executor.cc:939] successful NUMA node read from SysFS had negative value (-1), but there must be at least one NUMA node, so returning NUMA node zero\n",
      "2022-07-30 07:37:05.423128: I tensorflow/stream_executor/cuda/cuda_gpu_executor.cc:939] successful NUMA node read from SysFS had negative value (-1), but there must be at least one NUMA node, so returning NUMA node zero\n"
     ]
    }
   ],
   "source": [
    "import os\n",
    "import sys\n",
    "import h5py\n",
    "import numpy as np\n",
    "import tensorflow as tf\n",
    "import matplotlib.pyplot as plt\n",
    "\n",
    "import trainconfig\n",
    "sys.path.append(trainconfig.DIR_LIB)\n",
    "sys.path.append(trainconfig.DIR_MODELOS)\n",
    "import datasets\n",
    "import modelos\n",
    "\n",
    "import importlib\n",
    "importlib.reload(datasets)\n",
    "importlib.reload(modelos)\n",
    "importlib.reload(trainconfig)\n",
    "\n",
    "# Vemos si hay GPUs disponibles, y configuramos para que no use toda la memoria.\n",
    "trainconfig.ver_gpus()"
   ]
  },
  {
   "cell_type": "markdown",
   "id": "c6c9db2f",
   "metadata": {},
   "source": [
    "### Preparamos el dataset\n",
    "**(Ver modulo trainconfig)** <br>\n",
    "\n",
    "Entre las funciones que hace *trainconfig.preparar_dataset()* son: <br>\n",
    "* Randomiza el orden de los datos\n",
    "* Separa en train y test\n",
    "* Normalización (max-min)\n"
   ]
  },
  {
   "cell_type": "code",
   "execution_count": 2,
   "id": "a868bbe5",
   "metadata": {
    "scrolled": true
   },
   "outputs": [
    {
     "name": "stdout",
     "output_type": "stream",
     "text": [
      "Ya existen los datasets preparados,si desea volver a generarlos eliminelos y vulva a ejecutar la función.\n"
     ]
    }
   ],
   "source": [
    "trainconfig.preparar_dataset()"
   ]
  },
  {
   "cell_type": "markdown",
   "id": "d851a90c",
   "metadata": {},
   "source": [
    "### Preparando secuenciador"
   ]
  },
  {
   "cell_type": "code",
   "execution_count": 3,
   "id": "d47f7ed3",
   "metadata": {},
   "outputs": [],
   "source": [
    "# ------------------------------------------------------------------\n",
    "\n",
    "lista_keys_X = [\"4\",\"6\",\"14\",\"16\",\"Altura\",\"CM\"]\n",
    "lista_keys_y = [\"CTH\"]\n",
    "\n",
    "secuenciador_train = trainconfig.SecuenciaHDF5(\n",
    "    X_keys = lista_keys_X,\n",
    "    Y_keys = lista_keys_y,\n",
    "    batch_size= trainconfig.BATCH_SIZE,\n",
    "    path_dataset= trainconfig.PATH_DATASET_TRAIN,\n",
    ")\n",
    "\n",
    "secuenciador_test = trainconfig.SecuenciaHDF5(\n",
    "    X_keys = lista_keys_X,\n",
    "    Y_keys = lista_keys_y,\n",
    "    batch_size= trainconfig.BATCH_SIZE,\n",
    "    path_dataset= trainconfig.PATH_DATASET_TEST,\n",
    ")"
   ]
  },
  {
   "cell_type": "markdown",
   "id": "43ecb362",
   "metadata": {},
   "source": [
    "### Importamos modelo"
   ]
  },
  {
   "cell_type": "code",
   "execution_count": 4,
   "id": "f6c72b8b",
   "metadata": {
    "scrolled": false
   },
   "outputs": [
    {
     "name": "stdout",
     "output_type": "stream",
     "text": [
      "Model: \"model\"\n",
      "__________________________________________________________________________________________________\n",
      " Layer (type)                   Output Shape         Param #     Connected to                     \n",
      "==================================================================================================\n",
      " input_1 (InputLayer)           [(None, 37, 37, 6)]  0           []                               \n",
      "                                                                                                  \n",
      " tf.__operators__.getitem_1 (Sl  (None, 37, 37, 5)   0           ['input_1[0][0]']                \n",
      " icingOpLambda)                                                                                   \n",
      "                                                                                                  \n",
      " dense (Dense)                  (None, 37, 37, 15)   90          ['tf.__operators__.getitem_1[0][0\n",
      "                                                                 ]']                              \n",
      "                                                                                                  \n",
      " dense_1 (Dense)                (None, 37, 37, 10)   160         ['dense[0][0]']                  \n",
      "                                                                                                  \n",
      " tf.__operators__.getitem (Slic  (None, 37, 37)      0           ['input_1[0][0]']                \n",
      " ingOpLambda)                                                                                     \n",
      "                                                                                                  \n",
      " dense_2 (Dense)                (None, 37, 37, 10)   110         ['dense_1[0][0]']                \n",
      "                                                                                                  \n",
      " tf.expand_dims (TFOpLambda)    (None, 37, 37, 1)    0           ['tf.__operators__.getitem[0][0]'\n",
      "                                                                 ]                                \n",
      "                                                                                                  \n",
      " dense_3 (Dense)                (None, 37, 37, 1)    11          ['dense_2[0][0]']                \n",
      "                                                                                                  \n",
      " tf.math.multiply (TFOpLambda)  (None, 37, 37, 1)    0           ['tf.expand_dims[0][0]',         \n",
      "                                                                  'dense_3[0][0]']                \n",
      "                                                                                                  \n",
      "==================================================================================================\n",
      "Total params: 371\n",
      "Trainable params: 371\n",
      "Non-trainable params: 0\n",
      "__________________________________________________________________________________________________\n"
     ]
    },
    {
     "name": "stderr",
     "output_type": "stream",
     "text": [
      "2022-07-30 07:37:17.220017: I tensorflow/core/platform/cpu_feature_guard.cc:151] This TensorFlow binary is optimized with oneAPI Deep Neural Network Library (oneDNN) to use the following CPU instructions in performance-critical operations:  AVX2 FMA\n",
      "To enable them in other operations, rebuild TensorFlow with the appropriate compiler flags.\n",
      "2022-07-30 07:37:17.220567: I tensorflow/stream_executor/cuda/cuda_gpu_executor.cc:939] successful NUMA node read from SysFS had negative value (-1), but there must be at least one NUMA node, so returning NUMA node zero\n",
      "2022-07-30 07:37:17.220999: I tensorflow/stream_executor/cuda/cuda_gpu_executor.cc:939] successful NUMA node read from SysFS had negative value (-1), but there must be at least one NUMA node, so returning NUMA node zero\n",
      "2022-07-30 07:37:17.221324: I tensorflow/stream_executor/cuda/cuda_gpu_executor.cc:939] successful NUMA node read from SysFS had negative value (-1), but there must be at least one NUMA node, so returning NUMA node zero\n",
      "2022-07-30 07:37:17.735308: I tensorflow/stream_executor/cuda/cuda_gpu_executor.cc:939] successful NUMA node read from SysFS had negative value (-1), but there must be at least one NUMA node, so returning NUMA node zero\n",
      "2022-07-30 07:37:17.735676: I tensorflow/stream_executor/cuda/cuda_gpu_executor.cc:939] successful NUMA node read from SysFS had negative value (-1), but there must be at least one NUMA node, so returning NUMA node zero\n",
      "2022-07-30 07:37:17.735966: I tensorflow/stream_executor/cuda/cuda_gpu_executor.cc:939] successful NUMA node read from SysFS had negative value (-1), but there must be at least one NUMA node, so returning NUMA node zero\n",
      "2022-07-30 07:37:17.736229: I tensorflow/core/common_runtime/gpu/gpu_device.cc:1525] Created device /job:localhost/replica:0/task:0/device:GPU:0 with 2546 MB memory:  -> device: 0, name: NVIDIA GeForce GTX 960M, pci bus id: 0000:01:00.0, compute capability: 5.0\n"
     ]
    }
   ],
   "source": [
    "modelo = modelos.Modelo_CTH()\n",
    "modelo.summary()"
   ]
  },
  {
   "cell_type": "markdown",
   "id": "45ff0f51",
   "metadata": {},
   "source": [
    "### Entrenamos modelo"
   ]
  },
  {
   "cell_type": "code",
   "execution_count": 6,
   "id": "6c097ad0",
   "metadata": {
    "scrolled": false
   },
   "outputs": [
    {
     "name": "stdout",
     "output_type": "stream",
     "text": [
      "Epoch 1/50\n",
      "103/341 [========>.....................] - ETA: 20s - loss: 0.0365Entrenamiento interumpido.\n"
     ]
    },
    {
     "data": {
      "text/plain": [
       "<matplotlib.legend.Legend at 0x7f5b9072aaf0>"
      ]
     },
     "execution_count": 6,
     "metadata": {},
     "output_type": "execute_result"
    },
    {
     "data": {
      "image/png": "[encoded data removed]",
      "text/plain": [
       "<Figure size 432x288 with 1 Axes>"
      ]
     },
     "metadata": {
      "needs_background": "light"
     },
     "output_type": "display_data"
    }
   ],
   "source": [
    "epochs = 50\n",
    "learning_rate = 0.0004\n",
    "\n",
    "modelo.compile(\n",
    "    optimizer=tf.keras.optimizers.Adam(learning_rate=learning_rate),\n",
    "    loss=tf.keras.losses.MeanSquaredError(),\n",
    ")\n",
    "\n",
    "try:\n",
    "    history = modelo.fit(\n",
    "        secuenciador_train,\n",
    "        epochs=epochs,\n",
    "        validation_data=secuenciador_test,\n",
    "        shuffle=False,\n",
    "        verbose=1,\n",
    "    )\n",
    "except KeyboardInterrupt:\n",
    "    print(\"Entrenamiento interumpido.\")\n",
    "    \n",
    "\n",
    "plt.title(\"Entrenamiento CTH\",weight=\"bold\")\n",
    "plt.plot(history.history[\"loss\"],label=\"loss\")\n",
    "plt.plot(history.history[\"val_loss\"],label=\"val loss\")\n",
    "plt.xlabel(\"Epoca\")\n",
    "plt.ylabel(\"loss\")\n",
    "plt.grid()\n",
    "plt.legend()"
   ]
  },
  {
   "cell_type": "markdown",
   "id": "166fcd5d",
   "metadata": {},
   "source": [
    "### Guardamos pesos"
   ]
  },
  {
   "cell_type": "code",
   "execution_count": 7,
   "id": "3bc58322",
   "metadata": {},
   "outputs": [
    {
     "name": "stdout",
     "output_type": "stream",
     "text": [
      "Pesos guardados en /home/felos/Repos/Deep-GOES/Modelos/Pesos//CTH/pesos.tf\n"
     ]
    }
   ],
   "source": [
    "modelo.save_weights(f\"{trainconfig.DIR_PESOS}/CTH/pesos.tf\",save_format=\"tf\")\n",
    "print(f\"Pesos guardados en {trainconfig.DIR_PESOS}/CTH/pesos.tf\")"
   ]
  },
  {
   "cell_type": "markdown",
   "id": "a4e2b606",
   "metadata": {},
   "source": [
    "## Inspección visual resultados"
   ]
  },
  {
   "cell_type": "code",
   "execution_count": 12,
   "id": "5e496dde",
   "metadata": {},
   "outputs": [
    {
     "data": {
      "text/plain": [
       "<matplotlib.colorbar.Colorbar at 0x7f5b91381370>"
      ]
     },
     "execution_count": 12,
     "metadata": {},
     "output_type": "execute_result"
    },
    {
     "data": {
      "image/png": "[encoded data removed]",
      "text/plain": [
       "<Figure size 432x288 with 3 Axes>"
      ]
     },
     "metadata": {
      "needs_background": "light"
     },
     "output_type": "display_data"
    }
   ],
   "source": [
    "batch = 0\n",
    "index = 3\n",
    "\n",
    "x_prueba , y_real = secuenciador_test.__getitem__(batch)\n",
    "\n",
    "y_real = y_real[index,:,:,0]\n",
    "y_inferencia = modelo(x_prueba).numpy()\n",
    "y_inferencia = y_inferencia[index]\n",
    "\n",
    "fig,ax = plt.subplots(1,2)\n",
    "for i in range(2): ax[i].axis(\"off\")\n",
    "\n",
    "ax[0].imshow(y_real,vmin=0,vmax=1,cmap=\"terrain\")\n",
    "ax[0].set_title(\"y real\")\n",
    "im = ax[1].imshow(y_inferencia,vmin=0,vmax=1,cmap=\"terrain\")\n",
    "ax[1].set_title(\"y inferencia\")\n",
    "\n",
    "plt.colorbar(im)"
   ]
  }
 ],
 "metadata": {
  "kernelspec": {
   "display_name": "Python 3 (ipykernel)",
   "language": "python",
   "name": "python3"
  },
  "language_info": {
   "codemirror_mode": {
    "name": "ipython",
    "version": 3
   },
   "file_extension": ".py",
   "mimetype": "text/x-python",
   "name": "python",
   "nbconvert_exporter": "python",
   "pygments_lexer": "ipython3",
   "version": "3.8.12"
  }
 },
 "nbformat": 4,
 "nbformat_minor": 5
}
