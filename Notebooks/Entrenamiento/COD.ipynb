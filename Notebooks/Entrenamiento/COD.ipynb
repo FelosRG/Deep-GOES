{
 "cells": [
  {
   "cell_type": "markdown",
   "id": "1eae61a4",
   "metadata": {},
   "source": [
    "# Entrenamiento: Cloud Optical Depth\n",
    "\n",
    "Notebook para el entrenamiento del modelo \"Cloud Optical Depth\" cuyo trabajo es determinar la opcacidad de las nubes a la luz solar.\n",
    "\n",
    "Adrián Ramírez <br>\n",
    "Contanto: felos@ciencias.unam.mx"
   ]
  },
  {
   "cell_type": "markdown",
   "id": "1b2c82a7",
   "metadata": {},
   "source": [
    "### Preparando entorno"
   ]
  },
  {
   "cell_type": "code",
   "execution_count": 1,
   "id": "f968d33f",
   "metadata": {
    "scrolled": true
   },
   "outputs": [
    {
     "name": "stdout",
     "output_type": "stream",
     "text": [
      "Name: /physical_device:GPU:0   Type: GPU\n"
     ]
    },
    {
     "name": "stderr",
     "output_type": "stream",
     "text": [
      "2022-07-30 01:35:00.442583: I tensorflow/stream_executor/cuda/cuda_gpu_executor.cc:939] successful NUMA node read from SysFS had negative value (-1), but there must be at least one NUMA node, so returning NUMA node zero\n",
      "2022-07-30 01:35:00.480754: I tensorflow/stream_executor/cuda/cuda_gpu_executor.cc:939] successful NUMA node read from SysFS had negative value (-1), but there must be at least one NUMA node, so returning NUMA node zero\n",
      "2022-07-30 01:35:00.481300: I tensorflow/stream_executor/cuda/cuda_gpu_executor.cc:939] successful NUMA node read from SysFS had negative value (-1), but there must be at least one NUMA node, so returning NUMA node zero\n"
     ]
    }
   ],
   "source": [
    "import os\n",
    "import sys\n",
    "import h5py\n",
    "import numpy as np\n",
    "import tensorflow as tf\n",
    "import matplotlib.pyplot as plt\n",
    "\n",
    "import trainconfig\n",
    "sys.path.append(trainconfig.DIR_LIB)\n",
    "sys.path.append(trainconfig.DIR_MODELOS)\n",
    "import datasets\n",
    "import modelos\n",
    "\n",
    "import importlib\n",
    "importlib.reload(datasets)\n",
    "importlib.reload(modelos)\n",
    "importlib.reload(trainconfig)\n",
    "\n",
    "# Vemos si hay GPUs disponibles, y configuramos para que no use toda la memoria.\n",
    "trainconfig.ver_gpus()"
   ]
  },
  {
   "cell_type": "markdown",
   "id": "c6c9db2f",
   "metadata": {},
   "source": [
    "### Preparamos el dataset\n",
    "**(Ver modulo trainconfig)** <br>\n",
    "\n",
    "Entre las funciones que hace *trainconfig.preparar_dataset()* son: <br>\n",
    "* Randomiza el orden de los datos\n",
    "* Separa en train y test\n",
    "* Normalización (max-min)\n"
   ]
  },
  {
   "cell_type": "code",
   "execution_count": 2,
   "id": "a868bbe5",
   "metadata": {
    "scrolled": true
   },
   "outputs": [
    {
     "name": "stdout",
     "output_type": "stream",
     "text": [
      "Ya existen los datasets preparados,si desea volver a generarlos eliminelos y vulva a ejecutar la función.\n"
     ]
    }
   ],
   "source": [
    "trainconfig.preparar_dataset()"
   ]
  },
  {
   "cell_type": "markdown",
   "id": "d851a90c",
   "metadata": {},
   "source": [
    "### Preparando secuenciador"
   ]
  },
  {
   "cell_type": "code",
   "execution_count": 3,
   "id": "d47f7ed3",
   "metadata": {},
   "outputs": [],
   "source": [
    "# ------------------------------------------------------------------\n",
    "\n",
    "lista_keys_X = [\"4\",\"6\",\"14\",\"16\",\"Altura\",\"CM\"]\n",
    "lista_keys_y = [\"COD\"]\n",
    "\n",
    "secuenciador_train = trainconfig.SecuenciaHDF5(\n",
    "    X_keys = lista_keys_X,\n",
    "    Y_keys = lista_keys_y,\n",
    "    batch_size= trainconfig.BATCH_SIZE,\n",
    "    path_dataset= trainconfig.PATH_DATASET_TRAIN,\n",
    ")\n",
    "\n",
    "secuenciador_test = trainconfig.SecuenciaHDF5(\n",
    "    X_keys = lista_keys_X,\n",
    "    Y_keys = lista_keys_y,\n",
    "    batch_size= trainconfig.BATCH_SIZE,\n",
    "    path_dataset= trainconfig.PATH_DATASET_TEST,\n",
    ")"
   ]
  },
  {
   "cell_type": "markdown",
   "id": "43ecb362",
   "metadata": {},
   "source": [
    "### Importamos modelo"
   ]
  },
  {
   "cell_type": "code",
   "execution_count": 4,
   "id": "f6c72b8b",
   "metadata": {
    "scrolled": false
   },
   "outputs": [
    {
     "name": "stderr",
     "output_type": "stream",
     "text": [
      "2022-07-30 01:35:00.542113: I tensorflow/core/platform/cpu_feature_guard.cc:151] This TensorFlow binary is optimized with oneAPI Deep Neural Network Library (oneDNN) to use the following CPU instructions in performance-critical operations:  AVX2 FMA\n",
      "To enable them in other operations, rebuild TensorFlow with the appropriate compiler flags.\n",
      "2022-07-30 01:35:00.543949: I tensorflow/stream_executor/cuda/cuda_gpu_executor.cc:939] successful NUMA node read from SysFS had negative value (-1), but there must be at least one NUMA node, so returning NUMA node zero\n",
      "2022-07-30 01:35:00.545007: I tensorflow/stream_executor/cuda/cuda_gpu_executor.cc:939] successful NUMA node read from SysFS had negative value (-1), but there must be at least one NUMA node, so returning NUMA node zero\n",
      "2022-07-30 01:35:00.545842: I tensorflow/stream_executor/cuda/cuda_gpu_executor.cc:939] successful NUMA node read from SysFS had negative value (-1), but there must be at least one NUMA node, so returning NUMA node zero\n",
      "2022-07-30 01:35:01.078612: I tensorflow/stream_executor/cuda/cuda_gpu_executor.cc:939] successful NUMA node read from SysFS had negative value (-1), but there must be at least one NUMA node, so returning NUMA node zero\n",
      "2022-07-30 01:35:01.078985: I tensorflow/stream_executor/cuda/cuda_gpu_executor.cc:939] successful NUMA node read from SysFS had negative value (-1), but there must be at least one NUMA node, so returning NUMA node zero\n",
      "2022-07-30 01:35:01.079285: I tensorflow/stream_executor/cuda/cuda_gpu_executor.cc:939] successful NUMA node read from SysFS had negative value (-1), but there must be at least one NUMA node, so returning NUMA node zero\n",
      "2022-07-30 01:35:01.079564: I tensorflow/core/common_runtime/gpu/gpu_device.cc:1525] Created device /job:localhost/replica:0/task:0/device:GPU:0 with 2481 MB memory:  -> device: 0, name: NVIDIA GeForce GTX 960M, pci bus id: 0000:01:00.0, compute capability: 5.0\n"
     ]
    },
    {
     "name": "stdout",
     "output_type": "stream",
     "text": [
      "Model: \"model\"\n",
      "__________________________________________________________________________________________________\n",
      " Layer (type)                   Output Shape         Param #     Connected to                     \n",
      "==================================================================================================\n",
      " input_1 (InputLayer)           [(None, 37, 37, 6)]  0           []                               \n",
      "                                                                                                  \n",
      " tf.__operators__.getitem_1 (Sl  (None, 37, 37, 5)   0           ['input_1[0][0]']                \n",
      " icingOpLambda)                                                                                   \n",
      "                                                                                                  \n",
      " Denso1 (Dense)                 (None, 37, 37, 15)   90          ['tf.__operators__.getitem_1[0][0\n",
      "                                                                 ]']                              \n",
      "                                                                                                  \n",
      " Denso2 (Dense)                 (None, 37, 37, 15)   240         ['Denso1[0][0]']                 \n",
      "                                                                                                  \n",
      " Denso3 (Dense)                 (None, 37, 37, 10)   160         ['Denso2[0][0]']                 \n",
      "                                                                                                  \n",
      " conv2d (Conv2D)                (None, 37, 37, 20)   1820        ['Denso3[0][0]']                 \n",
      "                                                                                                  \n",
      " tf.__operators__.getitem (Slic  (None, 37, 37)      0           ['input_1[0][0]']                \n",
      " ingOpLambda)                                                                                     \n",
      "                                                                                                  \n",
      " conv2d_1 (Conv2D)              (None, 37, 37, 20)   3620        ['conv2d[0][0]']                 \n",
      "                                                                                                  \n",
      " tf.expand_dims (TFOpLambda)    (None, 37, 37, 1)    0           ['tf.__operators__.getitem[0][0]'\n",
      "                                                                 ]                                \n",
      "                                                                                                  \n",
      " Denso4 (Dense)                 (None, 37, 37, 1)    21          ['conv2d_1[0][0]']               \n",
      "                                                                                                  \n",
      " tf.math.multiply (TFOpLambda)  (None, 37, 37, 1)    0           ['tf.expand_dims[0][0]',         \n",
      "                                                                  'Denso4[0][0]']                 \n",
      "                                                                                                  \n",
      "==================================================================================================\n",
      "Total params: 5,951\n",
      "Trainable params: 5,951\n",
      "Non-trainable params: 0\n",
      "__________________________________________________________________________________________________\n"
     ]
    }
   ],
   "source": [
    "modelo = modelos.Modelo_COD()\n",
    "modelo.summary()"
   ]
  },
  {
   "cell_type": "markdown",
   "id": "45ff0f51",
   "metadata": {},
   "source": [
    "### Entrenamos modelo"
   ]
  },
  {
   "cell_type": "code",
   "execution_count": 5,
   "id": "6c097ad0",
   "metadata": {
    "scrolled": false
   },
   "outputs": [
    {
     "name": "stderr",
     "output_type": "stream",
     "text": [
      "2022-07-30 01:35:01.838650: I tensorflow/stream_executor/cuda/cuda_dnn.cc:366] Loaded cuDNN version 8300\n",
      "2022-07-30 01:35:02.260972: I tensorflow/core/platform/default/subprocess.cc:304] Start cannot spawn child process: No such file or directory\n"
     ]
    },
    {
     "name": "stdout",
     "output_type": "stream",
     "text": [
      "Epoch 1/70\n",
      "341/341 [==============================] - 74s 210ms/step - loss: 0.0046 - val_loss: 0.0044\n",
      "Epoch 2/70\n",
      "341/341 [==============================] - 88s 257ms/step - loss: 0.0040 - val_loss: 0.0041\n",
      "Epoch 3/70\n",
      "341/341 [==============================] - 81s 236ms/step - loss: 0.0038 - val_loss: 0.0040\n",
      "Epoch 4/70\n",
      "341/341 [==============================] - 81s 236ms/step - loss: 0.0037 - val_loss: 0.0039\n",
      "Epoch 5/70\n",
      "341/341 [==============================] - 81s 236ms/step - loss: 0.0036 - val_loss: 0.0038\n",
      "Epoch 6/70\n",
      "341/341 [==============================] - 81s 238ms/step - loss: 0.0035 - val_loss: 0.0038\n",
      "Epoch 7/70\n",
      "341/341 [==============================] - 81s 238ms/step - loss: 0.0035 - val_loss: 0.0038\n",
      "Epoch 8/70\n",
      "341/341 [==============================] - 81s 239ms/step - loss: 0.0034 - val_loss: 0.0038\n",
      "Epoch 9/70\n",
      "341/341 [==============================] - 81s 239ms/step - loss: 0.0034 - val_loss: 0.0037\n",
      "Epoch 10/70\n",
      "341/341 [==============================] - 82s 239ms/step - loss: 0.0034 - val_loss: 0.0036\n",
      "Epoch 11/70\n",
      "341/341 [==============================] - 82s 239ms/step - loss: 0.0034 - val_loss: 0.0036\n",
      "Epoch 12/70\n",
      "341/341 [==============================] - 81s 239ms/step - loss: 0.0033 - val_loss: 0.0036\n",
      "Epoch 13/70\n",
      "341/341 [==============================] - 82s 239ms/step - loss: 0.0033 - val_loss: 0.0036\n",
      "Epoch 14/70\n",
      "341/341 [==============================] - 81s 239ms/step - loss: 0.0033 - val_loss: 0.0036\n",
      "Epoch 15/70\n",
      "341/341 [==============================] - 82s 239ms/step - loss: 0.0033 - val_loss: 0.0036\n",
      "Epoch 16/70\n",
      "341/341 [==============================] - 81s 239ms/step - loss: 0.0033 - val_loss: 0.0037\n",
      "Epoch 17/70\n",
      "341/341 [==============================] - 82s 240ms/step - loss: 0.0032 - val_loss: 0.0037\n",
      "Epoch 18/70\n",
      "341/341 [==============================] - 82s 239ms/step - loss: 0.0032 - val_loss: 0.0037\n",
      "Epoch 19/70\n",
      "341/341 [==============================] - 81s 239ms/step - loss: 0.0032 - val_loss: 0.0037\n",
      "Epoch 20/70\n",
      "341/341 [==============================] - 81s 238ms/step - loss: 0.0032 - val_loss: 0.0037\n",
      "Epoch 21/70\n",
      "341/341 [==============================] - 81s 239ms/step - loss: 0.0032 - val_loss: 0.0036\n",
      "Epoch 22/70\n",
      "341/341 [==============================] - 81s 239ms/step - loss: 0.0032 - val_loss: 0.0036\n",
      "Epoch 23/70\n",
      "341/341 [==============================] - 81s 239ms/step - loss: 0.0032 - val_loss: 0.0036\n",
      "Epoch 24/70\n",
      "341/341 [==============================] - 82s 240ms/step - loss: 0.0032 - val_loss: 0.0035\n",
      "Epoch 25/70\n",
      "341/341 [==============================] - 82s 239ms/step - loss: 0.0032 - val_loss: 0.0035\n",
      "Epoch 26/70\n",
      "341/341 [==============================] - 81s 239ms/step - loss: 0.0032 - val_loss: 0.0035\n",
      "Epoch 27/70\n",
      "341/341 [==============================] - 81s 239ms/step - loss: 0.0031 - val_loss: 0.0035\n",
      "Epoch 28/70\n",
      "341/341 [==============================] - 82s 239ms/step - loss: 0.0031 - val_loss: 0.0035\n",
      "Epoch 29/70\n",
      "341/341 [==============================] - 81s 239ms/step - loss: 0.0031 - val_loss: 0.0035\n",
      "Epoch 30/70\n",
      "341/341 [==============================] - 81s 239ms/step - loss: 0.0031 - val_loss: 0.0035\n",
      "Epoch 31/70\n",
      "341/341 [==============================] - 81s 239ms/step - loss: 0.0031 - val_loss: 0.0035\n",
      "Epoch 32/70\n",
      "341/341 [==============================] - 81s 239ms/step - loss: 0.0031 - val_loss: 0.0035\n",
      "Epoch 33/70\n",
      "341/341 [==============================] - 81s 239ms/step - loss: 0.0031 - val_loss: 0.0035\n",
      "Epoch 34/70\n",
      "341/341 [==============================] - 81s 239ms/step - loss: 0.0031 - val_loss: 0.0035\n",
      "Epoch 35/70\n",
      "341/341 [==============================] - 82s 239ms/step - loss: 0.0031 - val_loss: 0.0035\n",
      "Epoch 36/70\n",
      "341/341 [==============================] - 81s 238ms/step - loss: 0.0031 - val_loss: 0.0035\n",
      "Epoch 37/70\n",
      "341/341 [==============================] - 81s 239ms/step - loss: 0.0031 - val_loss: 0.0035\n",
      "Epoch 38/70\n",
      "341/341 [==============================] - 81s 238ms/step - loss: 0.0031 - val_loss: 0.0035\n",
      "Epoch 39/70\n",
      "341/341 [==============================] - 81s 239ms/step - loss: 0.0031 - val_loss: 0.0035\n",
      "Epoch 40/70\n",
      "341/341 [==============================] - 81s 239ms/step - loss: 0.0031 - val_loss: 0.0035\n",
      "Epoch 41/70\n",
      "341/341 [==============================] - 81s 238ms/step - loss: 0.0031 - val_loss: 0.0035\n",
      "Epoch 42/70\n",
      "341/341 [==============================] - 81s 239ms/step - loss: 0.0031 - val_loss: 0.0034\n",
      "Epoch 43/70\n",
      "341/341 [==============================] - 81s 239ms/step - loss: 0.0031 - val_loss: 0.0034\n",
      "Epoch 44/70\n",
      "341/341 [==============================] - 81s 238ms/step - loss: 0.0031 - val_loss: 0.0034\n",
      "Epoch 45/70\n",
      "341/341 [==============================] - 81s 238ms/step - loss: 0.0031 - val_loss: 0.0034\n",
      "Epoch 46/70\n",
      "341/341 [==============================] - 81s 239ms/step - loss: 0.0030 - val_loss: 0.0034\n",
      "Epoch 47/70\n",
      "341/341 [==============================] - 81s 239ms/step - loss: 0.0030 - val_loss: 0.0034\n",
      "Epoch 48/70\n",
      "341/341 [==============================] - 81s 238ms/step - loss: 0.0030 - val_loss: 0.0034\n",
      "Epoch 49/70\n",
      "341/341 [==============================] - 81s 239ms/step - loss: 0.0030 - val_loss: 0.0034\n",
      "Epoch 50/70\n",
      "341/341 [==============================] - 81s 238ms/step - loss: 0.0030 - val_loss: 0.0034\n",
      "Epoch 51/70\n",
      "341/341 [==============================] - 81s 238ms/step - loss: 0.0030 - val_loss: 0.0034\n",
      "Epoch 52/70\n",
      "341/341 [==============================] - 81s 238ms/step - loss: 0.0030 - val_loss: 0.0034\n",
      "Epoch 53/70\n",
      "341/341 [==============================] - 81s 239ms/step - loss: 0.0030 - val_loss: 0.0034\n",
      "Epoch 54/70\n",
      "341/341 [==============================] - 81s 239ms/step - loss: 0.0030 - val_loss: 0.0034\n",
      "Epoch 55/70\n",
      "341/341 [==============================] - 81s 238ms/step - loss: 0.0030 - val_loss: 0.0034\n",
      "Epoch 56/70\n",
      "341/341 [==============================] - 81s 238ms/step - loss: 0.0030 - val_loss: 0.0034\n",
      "Epoch 57/70\n",
      "341/341 [==============================] - 81s 238ms/step - loss: 0.0030 - val_loss: 0.0034\n",
      "Epoch 58/70\n",
      "341/341 [==============================] - 81s 238ms/step - loss: 0.0030 - val_loss: 0.0034\n",
      "Epoch 59/70\n",
      "341/341 [==============================] - 81s 239ms/step - loss: 0.0030 - val_loss: 0.0034\n",
      "Epoch 60/70\n",
      "341/341 [==============================] - 81s 238ms/step - loss: 0.0030 - val_loss: 0.0034\n",
      "Epoch 61/70\n",
      "341/341 [==============================] - 81s 238ms/step - loss: 0.0030 - val_loss: 0.0034\n",
      "Epoch 62/70\n",
      "341/341 [==============================] - 81s 238ms/step - loss: 0.0030 - val_loss: 0.0034\n",
      "Epoch 63/70\n",
      "341/341 [==============================] - 81s 238ms/step - loss: 0.0030 - val_loss: 0.0034\n",
      "Epoch 64/70\n",
      "341/341 [==============================] - 81s 238ms/step - loss: 0.0030 - val_loss: 0.0034\n",
      "Epoch 65/70\n",
      "341/341 [==============================] - 81s 238ms/step - loss: 0.0030 - val_loss: 0.0034\n",
      "Epoch 66/70\n",
      "341/341 [==============================] - 81s 238ms/step - loss: 0.0030 - val_loss: 0.0034\n",
      "Epoch 67/70\n",
      "341/341 [==============================] - 81s 238ms/step - loss: 0.0030 - val_loss: 0.0034\n",
      "Epoch 68/70\n",
      "341/341 [==============================] - 81s 238ms/step - loss: 0.0030 - val_loss: 0.0033\n",
      "Epoch 69/70\n",
      "341/341 [==============================] - 81s 238ms/step - loss: 0.0030 - val_loss: 0.0033\n",
      "Epoch 70/70\n",
      "341/341 [==============================] - 81s 238ms/step - loss: 0.0030 - val_loss: 0.0033\n"
     ]
    },
    {
     "data": {
      "text/plain": [
       "<matplotlib.legend.Legend at 0x7fb240351d00>"
      ]
     },
     "execution_count": 5,
     "metadata": {},
     "output_type": "execute_result"
    },
    {
     "data": {
      "image/png": "[encoded data removed]",
      "text/plain": [
       "<Figure size 432x288 with 1 Axes>"
      ]
     },
     "metadata": {
      "needs_background": "light"
     },
     "output_type": "display_data"
    }
   ],
   "source": [
    "epochs = 70\n",
    "learning_rate = 0.0015\n",
    "\n",
    "modelo.compile(\n",
    "    optimizer=tf.keras.optimizers.Adam(learning_rate=learning_rate),\n",
    "    loss=tf.keras.losses.MeanSquaredError(),\n",
    ")\n",
    "\n",
    "try:\n",
    "    history = modelo.fit(\n",
    "        secuenciador_train,\n",
    "        epochs=epochs,\n",
    "        validation_data=secuenciador_test,\n",
    "        shuffle=False,\n",
    "        verbose=1,\n",
    "    )\n",
    "except KeyboardInterrupt:\n",
    "    print(\"Entrenamiento interumpido.\")\n",
    "    \n",
    "\n",
    "plt.title(\"Entrenamiento CTH\",weight=\"bold\")\n",
    "plt.plot(history.history[\"loss\"],label=\"loss\")\n",
    "plt.plot(history.history[\"val_loss\"],label=\"val loss\")\n",
    "plt.xlabel(\"Epoca\")\n",
    "plt.ylabel(\"loss\")\n",
    "plt.grid()\n",
    "plt.legend()"
   ]
  },
  {
   "cell_type": "markdown",
   "id": "166fcd5d",
   "metadata": {},
   "source": [
    "### Guardamos pesos"
   ]
  },
  {
   "cell_type": "code",
   "execution_count": 58,
   "id": "3bc58322",
   "metadata": {},
   "outputs": [
    {
     "name": "stdout",
     "output_type": "stream",
     "text": [
      "Pesos guardados en /home/felos/Repos/Deep-GOES/Modelos/Pesos//COD/pesos.tf\n"
     ]
    }
   ],
   "source": [
    "modelo.save_weights(f\"{trainconfig.DIR_PESOS}/COD/pesos.tf\",save_format=\"tf\")\n",
    "print(f\"Pesos guardados en {trainconfig.DIR_PESOS}/COD/pesos.tf\")"
   ]
  },
  {
   "cell_type": "markdown",
   "id": "a4e2b606",
   "metadata": {},
   "source": [
    "## Inspección visual resultados"
   ]
  },
  {
   "cell_type": "code",
   "execution_count": 59,
   "id": "5e496dde",
   "metadata": {},
   "outputs": [
    {
     "data": {
      "text/plain": [
       "Text(0.5, 1.0, 'y inferencia')"
      ]
     },
     "execution_count": 59,
     "metadata": {},
     "output_type": "execute_result"
    },
    {
     "data": {
      "image/png": "[encoded data removed]",
      "text/plain": [
       "<Figure size 432x288 with 2 Axes>"
      ]
     },
     "metadata": {
      "needs_background": "light"
     },
     "output_type": "display_data"
    }
   ],
   "source": [
    "batch = 0\n",
    "index = 49\n",
    "\n",
    "x_prueba , y_real = secuenciador_test.__getitem__(batch)\n",
    "\n",
    "y_real = y_real[index,:,:,0]\n",
    "y_inferencia = modelo(x_prueba).numpy()\n",
    "y_inferencia = y_inferencia[index]\n",
    "\n",
    "fig,ax = plt.subplots(1,2)\n",
    "for i in range(2): ax[i].axis(\"off\")\n",
    "\n",
    "ax[0].imshow(y_real,vmin=0,vmax=1,cmap=\"hot\")\n",
    "ax[0].set_title(\"y real\")\n",
    "im = ax[1].imshow(y_inferencia,vmin=0,vmax=1,cmap=\"hot\")\n",
    "ax[1].set_title(\"y inferencia\")"
   ]
  }
 ],
 "metadata": {
  "kernelspec": {
   "display_name": "Python 3 (ipykernel)",
   "language": "python",
   "name": "python3"
  },
  "language_info": {
   "codemirror_mode": {
    "name": "ipython",
    "version": 3
   },
   "file_extension": ".py",
   "mimetype": "text/x-python",
   "name": "python",
   "nbconvert_exporter": "python",
   "pygments_lexer": "ipython3",
   "version": "3.8.12"
  }
 },
 "nbformat": 4,
 "nbformat_minor": 5
}
