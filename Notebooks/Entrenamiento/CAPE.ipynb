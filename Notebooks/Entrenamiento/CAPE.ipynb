{
 "cells": [
  {
   "cell_type": "markdown",
   "id": "1eae61a4",
   "metadata": {},
   "source": [
    "# Entrenamiento: CAPE\n",
    "\n",
    "Notebook para el entrenamiento del modelo \"Cloud Top Height\", cuyo trabajo es determinar la altura de las nubes en cada pixel.\n",
    "\n",
    "Adrián Ramírez <br>\n",
    "Contanto: felos@ciencias.unam.mx"
   ]
  },
  {
   "cell_type": "markdown",
   "id": "1b2c82a7",
   "metadata": {},
   "source": [
    "### Preparando entorno"
   ]
  },
  {
   "cell_type": "code",
   "execution_count": 112,
   "id": "f968d33f",
   "metadata": {
    "scrolled": true
   },
   "outputs": [
    {
     "name": "stdout",
     "output_type": "stream",
     "text": [
      "Name: /physical_device:GPU:0   Type: GPU\n"
     ]
    }
   ],
   "source": [
    "import os\n",
    "import sys\n",
    "import h5py\n",
    "import numpy as np\n",
    "import tensorflow as tf\n",
    "import matplotlib.pyplot as plt\n",
    "\n",
    "import trainconfig\n",
    "sys.path.append(trainconfig.DIR_LIB)\n",
    "sys.path.append(trainconfig.DIR_MODELOS)\n",
    "import datasets\n",
    "import modelos\n",
    "\n",
    "import importlib\n",
    "importlib.reload(datasets)\n",
    "importlib.reload(modelos)\n",
    "importlib.reload(trainconfig)\n",
    "\n",
    "# Vemos si hay GPUs disponibles, y configuramos para que no use toda la memoria.\n",
    "trainconfig.ver_gpus()"
   ]
  },
  {
   "cell_type": "markdown",
   "id": "c6c9db2f",
   "metadata": {},
   "source": [
    "### Preparamos el dataset\n",
    "**(Ver modulo trainconfig)** <br>\n",
    "\n",
    "Entre las funciones que hace *trainconfig.preparar_dataset()* son: <br>\n",
    "* Randomiza el orden de los datos\n",
    "* Separa en train y test\n",
    "* Normalización (max-min)\n"
   ]
  },
  {
   "cell_type": "code",
   "execution_count": 113,
   "id": "a868bbe5",
   "metadata": {
    "scrolled": true
   },
   "outputs": [
    {
     "name": "stdout",
     "output_type": "stream",
     "text": [
      "Ya existen los datasets preparados,si desea volver a generarlos eliminelos y vulva a ejecutar la función.\n"
     ]
    }
   ],
   "source": [
    "trainconfig.preparar_dataset()"
   ]
  },
  {
   "cell_type": "markdown",
   "id": "d851a90c",
   "metadata": {},
   "source": [
    "### Preparando secuenciador"
   ]
  },
  {
   "cell_type": "code",
   "execution_count": 114,
   "id": "d47f7ed3",
   "metadata": {},
   "outputs": [],
   "source": [
    "# ------------------------------------------------------------------\n",
    "\n",
    "lista_keys_X = [\"8\",\"9\",\"10\",\"14\",\"16\",\"Altura\",\"CM\"]\n",
    "lista_keys_y = [\"CAPE\"]\n",
    "\n",
    "secuenciador_train = trainconfig.SecuenciaHDF5(\n",
    "    X_keys = lista_keys_X,\n",
    "    Y_keys = lista_keys_y,\n",
    "    batch_size= trainconfig.BATCH_SIZE,\n",
    "    path_dataset= trainconfig.PATH_DATASET_TRAIN,\n",
    ")\n",
    "\n",
    "secuenciador_test = trainconfig.SecuenciaHDF5(\n",
    "    X_keys = lista_keys_X,\n",
    "    Y_keys = lista_keys_y,\n",
    "    batch_size= trainconfig.BATCH_SIZE,\n",
    "    path_dataset= trainconfig.PATH_DATASET_TEST,\n",
    ")"
   ]
  },
  {
   "cell_type": "markdown",
   "id": "43ecb362",
   "metadata": {},
   "source": [
    "### Importamos modelo"
   ]
  },
  {
   "cell_type": "code",
   "execution_count": 115,
   "id": "f6c72b8b",
   "metadata": {
    "scrolled": false
   },
   "outputs": [
    {
     "name": "stdout",
     "output_type": "stream",
     "text": [
      "Model: \"model_5\"\n",
      "__________________________________________________________________________________________________\n",
      " Layer (type)                   Output Shape         Param #     Connected to                     \n",
      "==================================================================================================\n",
      " input_6 (InputLayer)           [(None, 37, 37, 7)]  0           []                               \n",
      "                                                                                                  \n",
      " dense_25 (Dense)               (None, 37, 37, 15)   120         ['input_6[0][0]']                \n",
      "                                                                                                  \n",
      " dense_26 (Dense)               (None, 37, 37, 15)   240         ['dense_25[0][0]']               \n",
      "                                                                                                  \n",
      " dense_27 (Dense)               (None, 37, 37, 15)   240         ['dense_26[0][0]']               \n",
      "                                                                                                  \n",
      " dense_28 (Dense)               (None, 37, 37, 15)   240         ['dense_27[0][0]']               \n",
      "                                                                                                  \n",
      " conv2d_15 (Conv2D)             (None, 37, 37, 15)   2040        ['dense_28[0][0]']               \n",
      "                                                                                                  \n",
      " tf.__operators__.getitem_4 (Sl  (None, 37, 37)      0           ['input_6[0][0]']                \n",
      " icingOpLambda)                                                                                   \n",
      "                                                                                                  \n",
      " conv2d_16 (Conv2D)             (None, 37, 37, 15)   2040        ['conv2d_15[0][0]']              \n",
      "                                                                                                  \n",
      " tf.expand_dims_4 (TFOpLambda)  (None, 37, 37, 1)    0           ['tf.__operators__.getitem_4[0][0\n",
      "                                                                 ]']                              \n",
      "                                                                                                  \n",
      " conv2d_17 (Conv2D)             (None, 37, 37, 15)   2040        ['conv2d_16[0][0]']              \n",
      "                                                                                                  \n",
      " tf.math.subtract (TFOpLambda)  (None, 37, 37, 1)    0           ['tf.expand_dims_4[0][0]']       \n",
      "                                                                                                  \n",
      " dense_29 (Dense)               (None, 37, 37, 1)    16          ['conv2d_17[0][0]']              \n",
      "                                                                                                  \n",
      " tf.math.abs (TFOpLambda)       (None, 37, 37, 1)    0           ['tf.math.subtract[0][0]']       \n",
      "                                                                                                  \n",
      " tf.math.multiply (TFOpLambda)  (None, 37, 37, 1)    0           ['dense_29[0][0]',               \n",
      "                                                                  'tf.math.abs[0][0]']            \n",
      "                                                                                                  \n",
      "==================================================================================================\n",
      "Total params: 6,976\n",
      "Trainable params: 6,976\n",
      "Non-trainable params: 0\n",
      "__________________________________________________________________________________________________\n"
     ]
    }
   ],
   "source": [
    "modelo = modelos.Modelo_CAPE()\n",
    "modelo.summary()"
   ]
  },
  {
   "cell_type": "markdown",
   "id": "45ff0f51",
   "metadata": {},
   "source": [
    "### Entrenamos modelo"
   ]
  },
  {
   "cell_type": "code",
   "execution_count": 116,
   "id": "6c097ad0",
   "metadata": {
    "scrolled": false
   },
   "outputs": [
    {
     "name": "stdout",
     "output_type": "stream",
     "text": [
      "Epoch 1/60\n",
      "341/341 [==============================] - 107s 312ms/step - loss: 0.0239 - val_loss: 0.0214\n",
      "Epoch 2/60\n",
      "341/341 [==============================] - 113s 331ms/step - loss: 0.0221 - val_loss: 0.0212\n",
      "Epoch 3/60\n",
      "341/341 [==============================] - 114s 333ms/step - loss: 0.0218 - val_loss: 0.0206\n",
      "Epoch 4/60\n",
      "341/341 [==============================] - 116s 339ms/step - loss: 0.0215 - val_loss: 0.0211\n",
      "Epoch 5/60\n",
      "124/341 [=========>....................] - ETA: 1:11 - loss: 0.0213Entrenamiento interumpido.\n"
     ]
    },
    {
     "data": {
      "text/plain": [
       "<matplotlib.legend.Legend at 0x7f2530f74070>"
      ]
     },
     "execution_count": 116,
     "metadata": {},
     "output_type": "execute_result"
    },
    {
     "data": {
      "image/png": "[encoded data removed]",
      "text/plain": [
       "<Figure size 432x288 with 1 Axes>"
      ]
     },
     "metadata": {
      "needs_background": "light"
     },
     "output_type": "display_data"
    }
   ],
   "source": [
    "epochs = 60\n",
    "learning_rate = 0.0006\n",
    "\n",
    "modelo.compile(\n",
    "    optimizer=tf.keras.optimizers.Adam(learning_rate=learning_rate),\n",
    "    loss=tf.keras.losses.MeanSquaredError(),\n",
    ")\n",
    "\n",
    "try:\n",
    "    history = modelo.fit(\n",
    "        secuenciador_train,\n",
    "        epochs=epochs,\n",
    "        validation_data=secuenciador_test,\n",
    "        shuffle=False,\n",
    "        verbose=1,\n",
    "    )\n",
    "except KeyboardInterrupt:\n",
    "    print(\"Entrenamiento interumpido.\")\n",
    "    \n",
    "\n",
    "plt.title(\"Entrenamiento CAPE\",weight=\"bold\")\n",
    "plt.plot(history.history[\"loss\"],label=\"loss\")\n",
    "plt.plot(history.history[\"val_loss\"],label=\"val loss\")\n",
    "plt.xlabel(\"Epoca\")\n",
    "plt.ylabel(\"loss\")\n",
    "plt.grid()\n",
    "plt.legend()"
   ]
  },
  {
   "cell_type": "markdown",
   "id": "166fcd5d",
   "metadata": {},
   "source": [
    "### Guardamos pesos"
   ]
  },
  {
   "cell_type": "code",
   "execution_count": 69,
   "id": "3bc58322",
   "metadata": {},
   "outputs": [
    {
     "name": "stdout",
     "output_type": "stream",
     "text": [
      "Pesos guardados en /home/felos/Repos/Deep-GOES/Modelos/Pesos//CAPE/pesos.tf\n"
     ]
    }
   ],
   "source": [
    "modelo.save_weights(f\"{trainconfig.DIR_PESOS}/CAPE/pesos.tf\",save_format=\"tf\")\n",
    "print(f\"Pesos guardados en {trainconfig.DIR_PESOS}/CAPE/pesos.tf\")"
   ]
  },
  {
   "cell_type": "markdown",
   "id": "a4e2b606",
   "metadata": {},
   "source": [
    "## Inspección visual resultados"
   ]
  },
  {
   "cell_type": "code",
   "execution_count": 107,
   "id": "5e496dde",
   "metadata": {},
   "outputs": [
    {
     "data": {
      "text/plain": [
       "<matplotlib.colorbar.Colorbar at 0x7f25311f2880>"
      ]
     },
     "execution_count": 107,
     "metadata": {},
     "output_type": "execute_result"
    },
    {
     "data": {
      "image/png": "[encoded data removed]",
      "text/plain": [
       "<Figure size 432x288 with 3 Axes>"
      ]
     },
     "metadata": {
      "needs_background": "light"
     },
     "output_type": "display_data"
    }
   ],
   "source": [
    "batch = 0\n",
    "index = 27\n",
    "\n",
    "x_prueba , y_real = secuenciador_test.__getitem__(batch)\n",
    "\n",
    "modelo.load_weights(f\"{trainconfig.DIR_PESOS}/CAPE/pesos.tf\")\n",
    "\n",
    "y_real = y_real[index,:,:,0]\n",
    "y_inferencia = modelo(x_prueba).numpy()\n",
    "y_inferencia = y_inferencia[index]\n",
    "\n",
    "fig,ax = plt.subplots(1,2)\n",
    "for i in range(2): ax[i].axis(\"off\")\n",
    "\n",
    "ax[0].imshow(y_real,vmin=0,vmax=1,cmap=\"terrain\")\n",
    "ax[0].set_title(\"y real\")\n",
    "im = ax[1].imshow(y_inferencia,vmin=0,vmax=1,cmap=\"terrain\")\n",
    "ax[1].set_title(\"y inferencia\")\n",
    "\n",
    "plt.colorbar(im)"
   ]
  }
 ],
 "metadata": {
  "kernelspec": {
   "display_name": "Python 3 (ipykernel)",
   "language": "python",
   "name": "python3"
  },
  "language_info": {
   "codemirror_mode": {
    "name": "ipython",
    "version": 3
   },
   "file_extension": ".py",
   "mimetype": "text/x-python",
   "name": "python",
   "nbconvert_exporter": "python",
   "pygments_lexer": "ipython3",
   "version": "3.8.12"
  }
 },
 "nbformat": 4,
 "nbformat_minor": 5
}
