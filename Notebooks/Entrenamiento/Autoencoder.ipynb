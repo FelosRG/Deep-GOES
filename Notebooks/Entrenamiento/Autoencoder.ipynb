{
 "cells": [
  {
   "cell_type": "markdown",
   "id": "1eae61a4",
   "metadata": {},
   "source": [
    "# Entrenamiento: Autoencoder\n",
    "\n",
    "Notebook para el entrenamiento del modelo \"Cloud Top Height\", cuyo trabajo es determinar la altura de las nubes en cada pixel.\n",
    "\n",
    "Adrián Ramírez <br>\n",
    "Contanto: felos@ciencias.unam.mx"
   ]
  },
  {
   "cell_type": "markdown",
   "id": "1b2c82a7",
   "metadata": {},
   "source": [
    "### Preparando entorno"
   ]
  },
  {
   "cell_type": "code",
   "execution_count": 2,
   "id": "f968d33f",
   "metadata": {
    "scrolled": true
   },
   "outputs": [
    {
     "name": "stdout",
     "output_type": "stream",
     "text": [
      "Name: /physical_device:GPU:0   Type: GPU\n"
     ]
    }
   ],
   "source": [
    "import os\n",
    "import sys\n",
    "import h5py\n",
    "import numpy as np\n",
    "import tensorflow as tf\n",
    "import matplotlib.pyplot as plt\n",
    "\n",
    "import trainconfig\n",
    "sys.path.append(trainconfig.DIR_LIB)\n",
    "sys.path.append(trainconfig.DIR_MODELOS)\n",
    "import datasets\n",
    "import modelos\n",
    "\n",
    "import importlib\n",
    "importlib.reload(datasets)\n",
    "importlib.reload(modelos)\n",
    "importlib.reload(trainconfig)\n",
    "\n",
    "# Vemos si hay GPUs disponibles, y configuramos para que no use toda la memoria.\n",
    "trainconfig.ver_gpus()"
   ]
  },
  {
   "cell_type": "markdown",
   "id": "c6c9db2f",
   "metadata": {},
   "source": [
    "### Preparamos el dataset\n",
    "**(Ver modulo trainconfig)** <br>\n",
    "\n",
    "Entre las funciones que hace *trainconfig.preparar_dataset()* son: <br>\n",
    "* Randomiza el orden de los datos\n",
    "* Separa en train y test\n",
    "* Normalización (max-min)\n"
   ]
  },
  {
   "cell_type": "code",
   "execution_count": 3,
   "id": "a868bbe5",
   "metadata": {
    "scrolled": true
   },
   "outputs": [
    {
     "name": "stdout",
     "output_type": "stream",
     "text": [
      "Ya existen los datasets preparados,si desea volver a generarlos eliminelos y vulva a ejecutar la función.\n"
     ]
    }
   ],
   "source": [
    "trainconfig.preparar_dataset_GAN()"
   ]
  },
  {
   "cell_type": "markdown",
   "id": "d851a90c",
   "metadata": {},
   "source": [
    "### Preparando secuenciador"
   ]
  },
  {
   "cell_type": "code",
   "execution_count": 11,
   "id": "d47f7ed3",
   "metadata": {},
   "outputs": [],
   "source": [
    "lista_keys_X = [\"CTH\",\"COD\",\"CM\"]\n",
    "lista_keys_y = [\"CTH\",\"COD\",\"CM\"]\n",
    "\n",
    "def callback_x(inputs):\n",
    "    return (inputs*2 - 1) \n",
    "\n",
    "def callback_y(inputs):\n",
    "    return (inputs*2 - 1) \n",
    "    \n",
    "secuenciador = trainconfig.SecuenciaHDF5(\n",
    "    X_keys = lista_keys_X,\n",
    "    Y_keys = lista_keys_y,\n",
    "    batch_size= trainconfig.BATCH_SIZE,\n",
    "    path_dataset= trainconfig.PATH_DATASET_GAN,\n",
    "    callback_x = callback_x,\n",
    "    callback_y = callback_y,\n",
    ")"
   ]
  },
  {
   "cell_type": "markdown",
   "id": "43ecb362",
   "metadata": {},
   "source": [
    "### Importamos modelo"
   ]
  },
  {
   "cell_type": "code",
   "execution_count": 46,
   "id": "f6c72b8b",
   "metadata": {
    "scrolled": false
   },
   "outputs": [
    {
     "name": "stdout",
     "output_type": "stream",
     "text": [
      "Model: \"model_5\"\n",
      "_________________________________________________________________\n",
      " Layer (type)                Output Shape              Param #   \n",
      "=================================================================\n",
      " input_6 (InputLayer)        [(None, 37, 37, 3)]       0         \n",
      "                                                                 \n",
      " modelo__encoder_6 (Modelo_E  (None, 50)               64530     \n",
      " ncoder)                                                         \n",
      "                                                                 \n",
      " modelo_gan_generador_6 (Mod  (None, 37, 37, 3)        407193    \n",
      " elo_GAN_generador)                                              \n",
      "                                                                 \n",
      "=================================================================\n",
      "Total params: 471,723\n",
      "Trainable params: 64,306\n",
      "Non-trainable params: 407,417\n",
      "_________________________________________________________________\n"
     ]
    }
   ],
   "source": [
    "modelo = modelos.Modelo_Autoencoder(\n",
    "    num_inputs = trainconfig.GAN_NOISE_DIM,\n",
    "    path_pesos_decoder = f\"{trainconfig.DIR_PESOS}/GAN_gen/pesos.tf\"\n",
    ")\n",
    "modelo.summary()"
   ]
  },
  {
   "cell_type": "markdown",
   "id": "45ff0f51",
   "metadata": {},
   "source": [
    "### Entrenamos modelo"
   ]
  },
  {
   "cell_type": "code",
   "execution_count": null,
   "id": "6c097ad0",
   "metadata": {
    "scrolled": false
   },
   "outputs": [
    {
     "name": "stdout",
     "output_type": "stream",
     "text": [
      "Epoch 1/50\n",
      "379/379 [==============================] - 191s 503ms/step - loss: 0.2793\n",
      "Epoch 2/50\n",
      "379/379 [==============================] - 197s 519ms/step - loss: 0.2155\n",
      "Epoch 3/50\n",
      "379/379 [==============================] - 199s 524ms/step - loss: 0.1965\n",
      "Epoch 4/50\n",
      "379/379 [==============================] - 199s 526ms/step - loss: 0.1852\n",
      "Epoch 5/50\n",
      "379/379 [==============================] - 201s 531ms/step - loss: 0.1782\n",
      "Epoch 6/50\n",
      "379/379 [==============================] - 200s 528ms/step - loss: 0.1736\n",
      "Epoch 7/50\n",
      "379/379 [==============================] - 202s 532ms/step - loss: 0.1702\n",
      "Epoch 8/50\n",
      "379/379 [==============================] - 200s 527ms/step - loss: 0.1676\n",
      "Epoch 9/50\n",
      "379/379 [==============================] - 199s 526ms/step - loss: 0.1653\n",
      "Epoch 10/50\n",
      "379/379 [==============================] - 199s 526ms/step - loss: 0.1635\n",
      "Epoch 11/50\n",
      "379/379 [==============================] - 199s 526ms/step - loss: 0.1617\n",
      "Epoch 12/50\n",
      "379/379 [==============================] - 200s 527ms/step - loss: 0.1603\n",
      "Epoch 13/50\n",
      "379/379 [==============================] - 199s 525ms/step - loss: 0.1589\n",
      "Epoch 14/50\n",
      "379/379 [==============================] - 199s 526ms/step - loss: 0.1576\n",
      "Epoch 15/50\n",
      "241/379 [==================>...........] - ETA: 1:12 - loss: 0.1568"
     ]
    }
   ],
   "source": [
    "epochs = 50\n",
    "learning_rate = 0.0001\n",
    "\n",
    "modelo.compile(\n",
    "    optimizer=tf.keras.optimizers.Adam(learning_rate=learning_rate),\n",
    "    loss=tf.keras.losses.MeanSquaredError(),\n",
    ")\n",
    "\n",
    "try:\n",
    "    history = modelo.fit(\n",
    "        secuenciador,\n",
    "        epochs=epochs,\n",
    "        shuffle=False,\n",
    "        verbose=1,\n",
    "    )\n",
    "except KeyboardInterrupt:\n",
    "    print(\"Entrenamiento interumpido.\")\n",
    "    \n",
    "\n",
    "plt.title(\"Entrenamiento Autoencoder\",weight=\"bold\")\n",
    "plt.plot(history.history[\"loss\"],label=\"loss\")\n",
    "plt.xlabel(\"Epoca\")\n",
    "plt.ylabel(\"loss\")\n",
    "plt.grid()\n",
    "plt.legend()"
   ]
  },
  {
   "cell_type": "markdown",
   "id": "166fcd5d",
   "metadata": {},
   "source": [
    "### Guardamos pesos"
   ]
  },
  {
   "cell_type": "code",
   "execution_count": 7,
   "id": "3bc58322",
   "metadata": {},
   "outputs": [
    {
     "name": "stdout",
     "output_type": "stream",
     "text": [
      "Pesos guardados en /home/felos/Repos/Deep-GOES/Modelos/Pesos//CTH/pesos.tf\n"
     ]
    }
   ],
   "source": [
    "modelo.save_weights(f\"{trainconfig.DIR_PESOS}/CTH/pesos.tf\",save_format=\"tf\")\n",
    "print(f\"Pesos guardados en {trainconfig.DIR_PESOS}/CTH/pesos.tf\")"
   ]
  },
  {
   "cell_type": "markdown",
   "id": "a4e2b606",
   "metadata": {},
   "source": [
    "## Inspección visual resultados"
   ]
  },
  {
   "cell_type": "code",
   "execution_count": 44,
   "id": "5e496dde",
   "metadata": {
    "scrolled": true
   },
   "outputs": [
    {
     "data": {
      "text/plain": [
       "Text(0.5, 1.0, 'y inferencia')"
      ]
     },
     "execution_count": 44,
     "metadata": {},
     "output_type": "execute_result"
    },
    {
     "data": {
      "image/png": "[encoded data removed]",
      "text/plain": [
       "<Figure size 432x288 with 2 Axes>"
      ]
     },
     "metadata": {
      "needs_background": "light"
     },
     "output_type": "display_data"
    }
   ],
   "source": [
    "batch = 0\n",
    "index = 17\n",
    "\n",
    "x_prueba , y_real = secuenciador.__getitem__(batch)\n",
    "\n",
    "y_real = y_real[index,:,:,0]\n",
    "y_inferencia = modelo(x_prueba).numpy()\n",
    "y_inferencia = y_inferencia[index]\n",
    "\n",
    "fig,ax = plt.subplots(1,2)\n",
    "for i in range(2): ax[i].axis(\"off\")\n",
    "\n",
    "ax[0].imshow(y_real,vmin=-1,vmax=1,cmap=\"viridis\")\n",
    "ax[0].set_title(\"y real\")\n",
    "im = ax[1].imshow(y_inferencia[:,:,0],vmin=-1,vmax=1,cmap=\"viridis\")\n",
    "ax[1].set_title(\"y inferencia\")"
   ]
  },
  {
   "cell_type": "code",
   "execution_count": 27,
   "id": "3c6ec136",
   "metadata": {},
   "outputs": [
    {
     "data": {
      "text/plain": [
       "(array([1952.,   37.,    8.,    5.,    2.,  118.,  796.,  136.,    2.,\n",
       "        1051.]),\n",
       " array([-1. , -0.8, -0.6, -0.4, -0.2,  0. ,  0.2,  0.4,  0.6,  0.8,  1. ],\n",
       "       dtype=float32),\n",
       " <BarContainer object of 10 artists>)"
      ]
     },
     "execution_count": 27,
     "metadata": {},
     "output_type": "execute_result"
    },
    {
     "data": {
      "image/png": "[encoded data removed]",
      "text/plain": [
       "<Figure size 432x288 with 1 Axes>"
      ]
     },
     "metadata": {
      "needs_background": "light"
     },
     "output_type": "display_data"
    }
   ],
   "source": [
    "plt.hist(y_inferencia.reshape(-1))"
   ]
  }
 ],
 "metadata": {
  "kernelspec": {
   "display_name": "Python 3 (ipykernel)",
   "language": "python",
   "name": "python3"
  },
  "language_info": {
   "codemirror_mode": {
    "name": "ipython",
    "version": 3
   },
   "file_extension": ".py",
   "mimetype": "text/x-python",
   "name": "python",
   "nbconvert_exporter": "python",
   "pygments_lexer": "ipython3",
   "version": "3.8.12"
  }
 },
 "nbformat": 4,
 "nbformat_minor": 5
}
